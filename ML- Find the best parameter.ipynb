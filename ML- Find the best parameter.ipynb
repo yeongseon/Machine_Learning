{
 "cells": [
  {
   "cell_type": "markdown",
   "metadata": {},
   "source": [
    "## Find the best parameter\n",
    "1. GridSearch\n",
    "2. BayesianOptimization\n",
    "3. Optuna\n",
    "4. scikit-optimize\n",
    "5. Hyperopt\n",
    "6. Spearmint\n",
    "7. benderopt"
   ]
  },
  {
   "cell_type": "code",
   "execution_count": 1,
   "metadata": {},
   "outputs": [],
   "source": [
    "from sklearn.datasets import load_iris\n",
    "import matplotlib.pyplot as plt\n",
    "import numpy as np\n",
    "import pandas as pd \n",
    "from sklearn.model_selection import StratifiedKFold , train_test_split , KFold\n",
    "%matplotlib inline"
   ]
  },
  {
   "cell_type": "code",
   "execution_count": 2,
   "metadata": {},
   "outputs": [],
   "source": [
    "iris = load_iris()\n",
    "iris_label = iris.target \n",
    "iris_label = iris_label.reshape(len(iris_label),1)\n",
    "iris_data = iris.data"
   ]
  },
  {
   "cell_type": "code",
   "execution_count": 3,
   "metadata": {},
   "outputs": [
    {
     "data": {
      "text/html": [
       "<div>\n",
       "<style scoped>\n",
       "    .dataframe tbody tr th:only-of-type {\n",
       "        vertical-align: middle;\n",
       "    }\n",
       "\n",
       "    .dataframe tbody tr th {\n",
       "        vertical-align: top;\n",
       "    }\n",
       "\n",
       "    .dataframe thead th {\n",
       "        text-align: right;\n",
       "    }\n",
       "</style>\n",
       "<table border=\"1\" class=\"dataframe\">\n",
       "  <thead>\n",
       "    <tr style=\"text-align: right;\">\n",
       "      <th></th>\n",
       "      <th>sepal_length</th>\n",
       "      <th>sepal_width</th>\n",
       "      <th>petal_length</th>\n",
       "      <th>petal_width</th>\n",
       "      <th>label</th>\n",
       "    </tr>\n",
       "  </thead>\n",
       "  <tbody>\n",
       "    <tr>\n",
       "      <th>0</th>\n",
       "      <td>5.1</td>\n",
       "      <td>3.5</td>\n",
       "      <td>1.4</td>\n",
       "      <td>0.2</td>\n",
       "      <td>0.0</td>\n",
       "    </tr>\n",
       "    <tr>\n",
       "      <th>1</th>\n",
       "      <td>4.9</td>\n",
       "      <td>3.0</td>\n",
       "      <td>1.4</td>\n",
       "      <td>0.2</td>\n",
       "      <td>0.0</td>\n",
       "    </tr>\n",
       "    <tr>\n",
       "      <th>2</th>\n",
       "      <td>4.7</td>\n",
       "      <td>3.2</td>\n",
       "      <td>1.3</td>\n",
       "      <td>0.2</td>\n",
       "      <td>0.0</td>\n",
       "    </tr>\n",
       "  </tbody>\n",
       "</table>\n",
       "</div>"
      ],
      "text/plain": [
       "   sepal_length  sepal_width  petal_length  petal_width  label\n",
       "0           5.1          3.5           1.4          0.2    0.0\n",
       "1           4.9          3.0           1.4          0.2    0.0\n",
       "2           4.7          3.2           1.3          0.2    0.0"
      ]
     },
     "execution_count": 3,
     "metadata": {},
     "output_type": "execute_result"
    }
   ],
   "source": [
    "total_iris_data = np.hstack([iris_data, iris_label])\n",
    "irisDf = pd.DataFrame(data = total_iris_data, columns = ['sepal_length', 'sepal_width', 'petal_length','petal_width','label'])\n",
    "irisDf.head(3)"
   ]
  },
  {
   "cell_type": "code",
   "execution_count": 4,
   "metadata": {},
   "outputs": [],
   "source": [
    "X_train, X_test, y_train, y_test = train_test_split(iris_data, iris_label, test_size = 0.2, random_state = 11)"
   ]
  },
  {
   "cell_type": "markdown",
   "metadata": {},
   "source": [
    "## 1. Grid Search"
   ]
  },
  {
   "cell_type": "code",
   "execution_count": 5,
   "metadata": {},
   "outputs": [],
   "source": [
    "from sklearn.ensemble import RandomForestClassifier\n",
    "from sklearn.model_selection import GridSearchCV\n",
    "rfc=RandomForestClassifier(random_state=42)"
   ]
  },
  {
   "cell_type": "code",
   "execution_count": 6,
   "metadata": {},
   "outputs": [],
   "source": [
    "param_grid = { \n",
    "    'n_estimators': [200, 500],\n",
    "    'max_features': ['auto', 'sqrt', 'log2'],\n",
    "    'max_depth' : [4,5,6,7,8],\n",
    "    'criterion' :['gini', 'entropy']\n",
    "}"
   ]
  },
  {
   "cell_type": "code",
   "execution_count": 7,
   "metadata": {},
   "outputs": [
    {
     "name": "stderr",
     "output_type": "stream",
     "text": [
      "D:\\99_file\\01_Anaconda\\envs\\py36\\lib\\site-packages\\sklearn\\model_selection\\_validation.py:515: DataConversionWarning: A column-vector y was passed when a 1d array was expected. Please change the shape of y to (n_samples,), for example using ravel().\n",
      "  estimator.fit(X_train, y_train, **fit_params)\n",
      "D:\\99_file\\01_Anaconda\\envs\\py36\\lib\\site-packages\\sklearn\\model_selection\\_validation.py:515: DataConversionWarning: A column-vector y was passed when a 1d array was expected. Please change the shape of y to (n_samples,), for example using ravel().\n",
      "  estimator.fit(X_train, y_train, **fit_params)\n",
      "D:\\99_file\\01_Anaconda\\envs\\py36\\lib\\site-packages\\sklearn\\model_selection\\_validation.py:515: DataConversionWarning: A column-vector y was passed when a 1d array was expected. Please change the shape of y to (n_samples,), for example using ravel().\n",
      "  estimator.fit(X_train, y_train, **fit_params)\n",
      "D:\\99_file\\01_Anaconda\\envs\\py36\\lib\\site-packages\\sklearn\\model_selection\\_validation.py:515: DataConversionWarning: A column-vector y was passed when a 1d array was expected. Please change the shape of y to (n_samples,), for example using ravel().\n",
      "  estimator.fit(X_train, y_train, **fit_params)\n",
      "D:\\99_file\\01_Anaconda\\envs\\py36\\lib\\site-packages\\sklearn\\model_selection\\_validation.py:515: DataConversionWarning: A column-vector y was passed when a 1d array was expected. Please change the shape of y to (n_samples,), for example using ravel().\n",
      "  estimator.fit(X_train, y_train, **fit_params)\n",
      "D:\\99_file\\01_Anaconda\\envs\\py36\\lib\\site-packages\\sklearn\\model_selection\\_validation.py:515: DataConversionWarning: A column-vector y was passed when a 1d array was expected. Please change the shape of y to (n_samples,), for example using ravel().\n",
      "  estimator.fit(X_train, y_train, **fit_params)\n",
      "D:\\99_file\\01_Anaconda\\envs\\py36\\lib\\site-packages\\sklearn\\model_selection\\_validation.py:515: DataConversionWarning: A column-vector y was passed when a 1d array was expected. Please change the shape of y to (n_samples,), for example using ravel().\n",
      "  estimator.fit(X_train, y_train, **fit_params)\n",
      "D:\\99_file\\01_Anaconda\\envs\\py36\\lib\\site-packages\\sklearn\\model_selection\\_validation.py:515: DataConversionWarning: A column-vector y was passed when a 1d array was expected. Please change the shape of y to (n_samples,), for example using ravel().\n",
      "  estimator.fit(X_train, y_train, **fit_params)\n",
      "D:\\99_file\\01_Anaconda\\envs\\py36\\lib\\site-packages\\sklearn\\model_selection\\_validation.py:515: DataConversionWarning: A column-vector y was passed when a 1d array was expected. Please change the shape of y to (n_samples,), for example using ravel().\n",
      "  estimator.fit(X_train, y_train, **fit_params)\n",
      "D:\\99_file\\01_Anaconda\\envs\\py36\\lib\\site-packages\\sklearn\\model_selection\\_validation.py:515: DataConversionWarning: A column-vector y was passed when a 1d array was expected. Please change the shape of y to (n_samples,), for example using ravel().\n",
      "  estimator.fit(X_train, y_train, **fit_params)\n",
      "D:\\99_file\\01_Anaconda\\envs\\py36\\lib\\site-packages\\sklearn\\model_selection\\_validation.py:515: DataConversionWarning: A column-vector y was passed when a 1d array was expected. Please change the shape of y to (n_samples,), for example using ravel().\n",
      "  estimator.fit(X_train, y_train, **fit_params)\n",
      "D:\\99_file\\01_Anaconda\\envs\\py36\\lib\\site-packages\\sklearn\\model_selection\\_validation.py:515: DataConversionWarning: A column-vector y was passed when a 1d array was expected. Please change the shape of y to (n_samples,), for example using ravel().\n",
      "  estimator.fit(X_train, y_train, **fit_params)\n",
      "D:\\99_file\\01_Anaconda\\envs\\py36\\lib\\site-packages\\sklearn\\model_selection\\_validation.py:515: DataConversionWarning: A column-vector y was passed when a 1d array was expected. Please change the shape of y to (n_samples,), for example using ravel().\n",
      "  estimator.fit(X_train, y_train, **fit_params)\n",
      "D:\\99_file\\01_Anaconda\\envs\\py36\\lib\\site-packages\\sklearn\\model_selection\\_validation.py:515: DataConversionWarning: A column-vector y was passed when a 1d array was expected. Please change the shape of y to (n_samples,), for example using ravel().\n",
      "  estimator.fit(X_train, y_train, **fit_params)\n",
      "D:\\99_file\\01_Anaconda\\envs\\py36\\lib\\site-packages\\sklearn\\model_selection\\_validation.py:515: DataConversionWarning: A column-vector y was passed when a 1d array was expected. Please change the shape of y to (n_samples,), for example using ravel().\n",
      "  estimator.fit(X_train, y_train, **fit_params)\n",
      "D:\\99_file\\01_Anaconda\\envs\\py36\\lib\\site-packages\\sklearn\\model_selection\\_validation.py:515: DataConversionWarning: A column-vector y was passed when a 1d array was expected. Please change the shape of y to (n_samples,), for example using ravel().\n",
      "  estimator.fit(X_train, y_train, **fit_params)\n",
      "D:\\99_file\\01_Anaconda\\envs\\py36\\lib\\site-packages\\sklearn\\model_selection\\_validation.py:515: DataConversionWarning: A column-vector y was passed when a 1d array was expected. Please change the shape of y to (n_samples,), for example using ravel().\n",
      "  estimator.fit(X_train, y_train, **fit_params)\n",
      "D:\\99_file\\01_Anaconda\\envs\\py36\\lib\\site-packages\\sklearn\\model_selection\\_validation.py:515: DataConversionWarning: A column-vector y was passed when a 1d array was expected. Please change the shape of y to (n_samples,), for example using ravel().\n",
      "  estimator.fit(X_train, y_train, **fit_params)\n",
      "D:\\99_file\\01_Anaconda\\envs\\py36\\lib\\site-packages\\sklearn\\model_selection\\_validation.py:515: DataConversionWarning: A column-vector y was passed when a 1d array was expected. Please change the shape of y to (n_samples,), for example using ravel().\n",
      "  estimator.fit(X_train, y_train, **fit_params)\n",
      "D:\\99_file\\01_Anaconda\\envs\\py36\\lib\\site-packages\\sklearn\\model_selection\\_validation.py:515: DataConversionWarning: A column-vector y was passed when a 1d array was expected. Please change the shape of y to (n_samples,), for example using ravel().\n",
      "  estimator.fit(X_train, y_train, **fit_params)\n",
      "D:\\99_file\\01_Anaconda\\envs\\py36\\lib\\site-packages\\sklearn\\model_selection\\_validation.py:515: DataConversionWarning: A column-vector y was passed when a 1d array was expected. Please change the shape of y to (n_samples,), for example using ravel().\n",
      "  estimator.fit(X_train, y_train, **fit_params)\n",
      "D:\\99_file\\01_Anaconda\\envs\\py36\\lib\\site-packages\\sklearn\\model_selection\\_validation.py:515: DataConversionWarning: A column-vector y was passed when a 1d array was expected. Please change the shape of y to (n_samples,), for example using ravel().\n",
      "  estimator.fit(X_train, y_train, **fit_params)\n",
      "D:\\99_file\\01_Anaconda\\envs\\py36\\lib\\site-packages\\sklearn\\model_selection\\_validation.py:515: DataConversionWarning: A column-vector y was passed when a 1d array was expected. Please change the shape of y to (n_samples,), for example using ravel().\n",
      "  estimator.fit(X_train, y_train, **fit_params)\n",
      "D:\\99_file\\01_Anaconda\\envs\\py36\\lib\\site-packages\\sklearn\\model_selection\\_validation.py:515: DataConversionWarning: A column-vector y was passed when a 1d array was expected. Please change the shape of y to (n_samples,), for example using ravel().\n",
      "  estimator.fit(X_train, y_train, **fit_params)\n",
      "D:\\99_file\\01_Anaconda\\envs\\py36\\lib\\site-packages\\sklearn\\model_selection\\_validation.py:515: DataConversionWarning: A column-vector y was passed when a 1d array was expected. Please change the shape of y to (n_samples,), for example using ravel().\n",
      "  estimator.fit(X_train, y_train, **fit_params)\n",
      "D:\\99_file\\01_Anaconda\\envs\\py36\\lib\\site-packages\\sklearn\\model_selection\\_validation.py:515: DataConversionWarning: A column-vector y was passed when a 1d array was expected. Please change the shape of y to (n_samples,), for example using ravel().\n",
      "  estimator.fit(X_train, y_train, **fit_params)\n",
      "D:\\99_file\\01_Anaconda\\envs\\py36\\lib\\site-packages\\sklearn\\model_selection\\_validation.py:515: DataConversionWarning: A column-vector y was passed when a 1d array was expected. Please change the shape of y to (n_samples,), for example using ravel().\n",
      "  estimator.fit(X_train, y_train, **fit_params)\n",
      "D:\\99_file\\01_Anaconda\\envs\\py36\\lib\\site-packages\\sklearn\\model_selection\\_validation.py:515: DataConversionWarning: A column-vector y was passed when a 1d array was expected. Please change the shape of y to (n_samples,), for example using ravel().\n",
      "  estimator.fit(X_train, y_train, **fit_params)\n"
     ]
    },
    {
     "name": "stderr",
     "output_type": "stream",
     "text": [
      "D:\\99_file\\01_Anaconda\\envs\\py36\\lib\\site-packages\\sklearn\\model_selection\\_validation.py:515: DataConversionWarning: A column-vector y was passed when a 1d array was expected. Please change the shape of y to (n_samples,), for example using ravel().\n",
      "  estimator.fit(X_train, y_train, **fit_params)\n",
      "D:\\99_file\\01_Anaconda\\envs\\py36\\lib\\site-packages\\sklearn\\model_selection\\_validation.py:515: DataConversionWarning: A column-vector y was passed when a 1d array was expected. Please change the shape of y to (n_samples,), for example using ravel().\n",
      "  estimator.fit(X_train, y_train, **fit_params)\n",
      "D:\\99_file\\01_Anaconda\\envs\\py36\\lib\\site-packages\\sklearn\\model_selection\\_validation.py:515: DataConversionWarning: A column-vector y was passed when a 1d array was expected. Please change the shape of y to (n_samples,), for example using ravel().\n",
      "  estimator.fit(X_train, y_train, **fit_params)\n",
      "D:\\99_file\\01_Anaconda\\envs\\py36\\lib\\site-packages\\sklearn\\model_selection\\_validation.py:515: DataConversionWarning: A column-vector y was passed when a 1d array was expected. Please change the shape of y to (n_samples,), for example using ravel().\n",
      "  estimator.fit(X_train, y_train, **fit_params)\n",
      "D:\\99_file\\01_Anaconda\\envs\\py36\\lib\\site-packages\\sklearn\\model_selection\\_validation.py:515: DataConversionWarning: A column-vector y was passed when a 1d array was expected. Please change the shape of y to (n_samples,), for example using ravel().\n",
      "  estimator.fit(X_train, y_train, **fit_params)\n",
      "D:\\99_file\\01_Anaconda\\envs\\py36\\lib\\site-packages\\sklearn\\model_selection\\_validation.py:515: DataConversionWarning: A column-vector y was passed when a 1d array was expected. Please change the shape of y to (n_samples,), for example using ravel().\n",
      "  estimator.fit(X_train, y_train, **fit_params)\n",
      "D:\\99_file\\01_Anaconda\\envs\\py36\\lib\\site-packages\\sklearn\\model_selection\\_validation.py:515: DataConversionWarning: A column-vector y was passed when a 1d array was expected. Please change the shape of y to (n_samples,), for example using ravel().\n",
      "  estimator.fit(X_train, y_train, **fit_params)\n",
      "D:\\99_file\\01_Anaconda\\envs\\py36\\lib\\site-packages\\sklearn\\model_selection\\_validation.py:515: DataConversionWarning: A column-vector y was passed when a 1d array was expected. Please change the shape of y to (n_samples,), for example using ravel().\n",
      "  estimator.fit(X_train, y_train, **fit_params)\n",
      "D:\\99_file\\01_Anaconda\\envs\\py36\\lib\\site-packages\\sklearn\\model_selection\\_validation.py:515: DataConversionWarning: A column-vector y was passed when a 1d array was expected. Please change the shape of y to (n_samples,), for example using ravel().\n",
      "  estimator.fit(X_train, y_train, **fit_params)\n",
      "D:\\99_file\\01_Anaconda\\envs\\py36\\lib\\site-packages\\sklearn\\model_selection\\_validation.py:515: DataConversionWarning: A column-vector y was passed when a 1d array was expected. Please change the shape of y to (n_samples,), for example using ravel().\n",
      "  estimator.fit(X_train, y_train, **fit_params)\n",
      "D:\\99_file\\01_Anaconda\\envs\\py36\\lib\\site-packages\\sklearn\\model_selection\\_validation.py:515: DataConversionWarning: A column-vector y was passed when a 1d array was expected. Please change the shape of y to (n_samples,), for example using ravel().\n",
      "  estimator.fit(X_train, y_train, **fit_params)\n",
      "D:\\99_file\\01_Anaconda\\envs\\py36\\lib\\site-packages\\sklearn\\model_selection\\_validation.py:515: DataConversionWarning: A column-vector y was passed when a 1d array was expected. Please change the shape of y to (n_samples,), for example using ravel().\n",
      "  estimator.fit(X_train, y_train, **fit_params)\n",
      "D:\\99_file\\01_Anaconda\\envs\\py36\\lib\\site-packages\\sklearn\\model_selection\\_validation.py:515: DataConversionWarning: A column-vector y was passed when a 1d array was expected. Please change the shape of y to (n_samples,), for example using ravel().\n",
      "  estimator.fit(X_train, y_train, **fit_params)\n",
      "D:\\99_file\\01_Anaconda\\envs\\py36\\lib\\site-packages\\sklearn\\model_selection\\_validation.py:515: DataConversionWarning: A column-vector y was passed when a 1d array was expected. Please change the shape of y to (n_samples,), for example using ravel().\n",
      "  estimator.fit(X_train, y_train, **fit_params)\n",
      "D:\\99_file\\01_Anaconda\\envs\\py36\\lib\\site-packages\\sklearn\\model_selection\\_validation.py:515: DataConversionWarning: A column-vector y was passed when a 1d array was expected. Please change the shape of y to (n_samples,), for example using ravel().\n",
      "  estimator.fit(X_train, y_train, **fit_params)\n",
      "D:\\99_file\\01_Anaconda\\envs\\py36\\lib\\site-packages\\sklearn\\model_selection\\_validation.py:515: DataConversionWarning: A column-vector y was passed when a 1d array was expected. Please change the shape of y to (n_samples,), for example using ravel().\n",
      "  estimator.fit(X_train, y_train, **fit_params)\n",
      "D:\\99_file\\01_Anaconda\\envs\\py36\\lib\\site-packages\\sklearn\\model_selection\\_validation.py:515: DataConversionWarning: A column-vector y was passed when a 1d array was expected. Please change the shape of y to (n_samples,), for example using ravel().\n",
      "  estimator.fit(X_train, y_train, **fit_params)\n",
      "D:\\99_file\\01_Anaconda\\envs\\py36\\lib\\site-packages\\sklearn\\model_selection\\_validation.py:515: DataConversionWarning: A column-vector y was passed when a 1d array was expected. Please change the shape of y to (n_samples,), for example using ravel().\n",
      "  estimator.fit(X_train, y_train, **fit_params)\n",
      "D:\\99_file\\01_Anaconda\\envs\\py36\\lib\\site-packages\\sklearn\\model_selection\\_validation.py:515: DataConversionWarning: A column-vector y was passed when a 1d array was expected. Please change the shape of y to (n_samples,), for example using ravel().\n",
      "  estimator.fit(X_train, y_train, **fit_params)\n",
      "D:\\99_file\\01_Anaconda\\envs\\py36\\lib\\site-packages\\sklearn\\model_selection\\_validation.py:515: DataConversionWarning: A column-vector y was passed when a 1d array was expected. Please change the shape of y to (n_samples,), for example using ravel().\n",
      "  estimator.fit(X_train, y_train, **fit_params)\n",
      "D:\\99_file\\01_Anaconda\\envs\\py36\\lib\\site-packages\\sklearn\\model_selection\\_validation.py:515: DataConversionWarning: A column-vector y was passed when a 1d array was expected. Please change the shape of y to (n_samples,), for example using ravel().\n",
      "  estimator.fit(X_train, y_train, **fit_params)\n",
      "D:\\99_file\\01_Anaconda\\envs\\py36\\lib\\site-packages\\sklearn\\model_selection\\_validation.py:515: DataConversionWarning: A column-vector y was passed when a 1d array was expected. Please change the shape of y to (n_samples,), for example using ravel().\n",
      "  estimator.fit(X_train, y_train, **fit_params)\n",
      "D:\\99_file\\01_Anaconda\\envs\\py36\\lib\\site-packages\\sklearn\\model_selection\\_validation.py:515: DataConversionWarning: A column-vector y was passed when a 1d array was expected. Please change the shape of y to (n_samples,), for example using ravel().\n",
      "  estimator.fit(X_train, y_train, **fit_params)\n",
      "D:\\99_file\\01_Anaconda\\envs\\py36\\lib\\site-packages\\sklearn\\model_selection\\_validation.py:515: DataConversionWarning: A column-vector y was passed when a 1d array was expected. Please change the shape of y to (n_samples,), for example using ravel().\n",
      "  estimator.fit(X_train, y_train, **fit_params)\n",
      "D:\\99_file\\01_Anaconda\\envs\\py36\\lib\\site-packages\\sklearn\\model_selection\\_validation.py:515: DataConversionWarning: A column-vector y was passed when a 1d array was expected. Please change the shape of y to (n_samples,), for example using ravel().\n",
      "  estimator.fit(X_train, y_train, **fit_params)\n",
      "D:\\99_file\\01_Anaconda\\envs\\py36\\lib\\site-packages\\sklearn\\model_selection\\_validation.py:515: DataConversionWarning: A column-vector y was passed when a 1d array was expected. Please change the shape of y to (n_samples,), for example using ravel().\n",
      "  estimator.fit(X_train, y_train, **fit_params)\n",
      "D:\\99_file\\01_Anaconda\\envs\\py36\\lib\\site-packages\\sklearn\\model_selection\\_validation.py:515: DataConversionWarning: A column-vector y was passed when a 1d array was expected. Please change the shape of y to (n_samples,), for example using ravel().\n",
      "  estimator.fit(X_train, y_train, **fit_params)\n",
      "D:\\99_file\\01_Anaconda\\envs\\py36\\lib\\site-packages\\sklearn\\model_selection\\_validation.py:515: DataConversionWarning: A column-vector y was passed when a 1d array was expected. Please change the shape of y to (n_samples,), for example using ravel().\n",
      "  estimator.fit(X_train, y_train, **fit_params)\n"
     ]
    },
    {
     "name": "stderr",
     "output_type": "stream",
     "text": [
      "D:\\99_file\\01_Anaconda\\envs\\py36\\lib\\site-packages\\sklearn\\model_selection\\_validation.py:515: DataConversionWarning: A column-vector y was passed when a 1d array was expected. Please change the shape of y to (n_samples,), for example using ravel().\n",
      "  estimator.fit(X_train, y_train, **fit_params)\n",
      "D:\\99_file\\01_Anaconda\\envs\\py36\\lib\\site-packages\\sklearn\\model_selection\\_validation.py:515: DataConversionWarning: A column-vector y was passed when a 1d array was expected. Please change the shape of y to (n_samples,), for example using ravel().\n",
      "  estimator.fit(X_train, y_train, **fit_params)\n",
      "D:\\99_file\\01_Anaconda\\envs\\py36\\lib\\site-packages\\sklearn\\model_selection\\_validation.py:515: DataConversionWarning: A column-vector y was passed when a 1d array was expected. Please change the shape of y to (n_samples,), for example using ravel().\n",
      "  estimator.fit(X_train, y_train, **fit_params)\n",
      "D:\\99_file\\01_Anaconda\\envs\\py36\\lib\\site-packages\\sklearn\\model_selection\\_validation.py:515: DataConversionWarning: A column-vector y was passed when a 1d array was expected. Please change the shape of y to (n_samples,), for example using ravel().\n",
      "  estimator.fit(X_train, y_train, **fit_params)\n",
      "D:\\99_file\\01_Anaconda\\envs\\py36\\lib\\site-packages\\sklearn\\model_selection\\_validation.py:515: DataConversionWarning: A column-vector y was passed when a 1d array was expected. Please change the shape of y to (n_samples,), for example using ravel().\n",
      "  estimator.fit(X_train, y_train, **fit_params)\n",
      "D:\\99_file\\01_Anaconda\\envs\\py36\\lib\\site-packages\\sklearn\\model_selection\\_validation.py:515: DataConversionWarning: A column-vector y was passed when a 1d array was expected. Please change the shape of y to (n_samples,), for example using ravel().\n",
      "  estimator.fit(X_train, y_train, **fit_params)\n",
      "D:\\99_file\\01_Anaconda\\envs\\py36\\lib\\site-packages\\sklearn\\model_selection\\_validation.py:515: DataConversionWarning: A column-vector y was passed when a 1d array was expected. Please change the shape of y to (n_samples,), for example using ravel().\n",
      "  estimator.fit(X_train, y_train, **fit_params)\n",
      "D:\\99_file\\01_Anaconda\\envs\\py36\\lib\\site-packages\\sklearn\\model_selection\\_validation.py:515: DataConversionWarning: A column-vector y was passed when a 1d array was expected. Please change the shape of y to (n_samples,), for example using ravel().\n",
      "  estimator.fit(X_train, y_train, **fit_params)\n",
      "D:\\99_file\\01_Anaconda\\envs\\py36\\lib\\site-packages\\sklearn\\model_selection\\_validation.py:515: DataConversionWarning: A column-vector y was passed when a 1d array was expected. Please change the shape of y to (n_samples,), for example using ravel().\n",
      "  estimator.fit(X_train, y_train, **fit_params)\n",
      "D:\\99_file\\01_Anaconda\\envs\\py36\\lib\\site-packages\\sklearn\\model_selection\\_validation.py:515: DataConversionWarning: A column-vector y was passed when a 1d array was expected. Please change the shape of y to (n_samples,), for example using ravel().\n",
      "  estimator.fit(X_train, y_train, **fit_params)\n",
      "D:\\99_file\\01_Anaconda\\envs\\py36\\lib\\site-packages\\sklearn\\model_selection\\_validation.py:515: DataConversionWarning: A column-vector y was passed when a 1d array was expected. Please change the shape of y to (n_samples,), for example using ravel().\n",
      "  estimator.fit(X_train, y_train, **fit_params)\n",
      "D:\\99_file\\01_Anaconda\\envs\\py36\\lib\\site-packages\\sklearn\\model_selection\\_validation.py:515: DataConversionWarning: A column-vector y was passed when a 1d array was expected. Please change the shape of y to (n_samples,), for example using ravel().\n",
      "  estimator.fit(X_train, y_train, **fit_params)\n",
      "D:\\99_file\\01_Anaconda\\envs\\py36\\lib\\site-packages\\sklearn\\model_selection\\_validation.py:515: DataConversionWarning: A column-vector y was passed when a 1d array was expected. Please change the shape of y to (n_samples,), for example using ravel().\n",
      "  estimator.fit(X_train, y_train, **fit_params)\n",
      "D:\\99_file\\01_Anaconda\\envs\\py36\\lib\\site-packages\\sklearn\\model_selection\\_validation.py:515: DataConversionWarning: A column-vector y was passed when a 1d array was expected. Please change the shape of y to (n_samples,), for example using ravel().\n",
      "  estimator.fit(X_train, y_train, **fit_params)\n",
      "D:\\99_file\\01_Anaconda\\envs\\py36\\lib\\site-packages\\sklearn\\model_selection\\_validation.py:515: DataConversionWarning: A column-vector y was passed when a 1d array was expected. Please change the shape of y to (n_samples,), for example using ravel().\n",
      "  estimator.fit(X_train, y_train, **fit_params)\n",
      "D:\\99_file\\01_Anaconda\\envs\\py36\\lib\\site-packages\\sklearn\\model_selection\\_validation.py:515: DataConversionWarning: A column-vector y was passed when a 1d array was expected. Please change the shape of y to (n_samples,), for example using ravel().\n",
      "  estimator.fit(X_train, y_train, **fit_params)\n",
      "D:\\99_file\\01_Anaconda\\envs\\py36\\lib\\site-packages\\sklearn\\model_selection\\_validation.py:515: DataConversionWarning: A column-vector y was passed when a 1d array was expected. Please change the shape of y to (n_samples,), for example using ravel().\n",
      "  estimator.fit(X_train, y_train, **fit_params)\n",
      "D:\\99_file\\01_Anaconda\\envs\\py36\\lib\\site-packages\\sklearn\\model_selection\\_validation.py:515: DataConversionWarning: A column-vector y was passed when a 1d array was expected. Please change the shape of y to (n_samples,), for example using ravel().\n",
      "  estimator.fit(X_train, y_train, **fit_params)\n",
      "D:\\99_file\\01_Anaconda\\envs\\py36\\lib\\site-packages\\sklearn\\model_selection\\_validation.py:515: DataConversionWarning: A column-vector y was passed when a 1d array was expected. Please change the shape of y to (n_samples,), for example using ravel().\n",
      "  estimator.fit(X_train, y_train, **fit_params)\n",
      "D:\\99_file\\01_Anaconda\\envs\\py36\\lib\\site-packages\\sklearn\\model_selection\\_validation.py:515: DataConversionWarning: A column-vector y was passed when a 1d array was expected. Please change the shape of y to (n_samples,), for example using ravel().\n",
      "  estimator.fit(X_train, y_train, **fit_params)\n",
      "D:\\99_file\\01_Anaconda\\envs\\py36\\lib\\site-packages\\sklearn\\model_selection\\_validation.py:515: DataConversionWarning: A column-vector y was passed when a 1d array was expected. Please change the shape of y to (n_samples,), for example using ravel().\n",
      "  estimator.fit(X_train, y_train, **fit_params)\n",
      "D:\\99_file\\01_Anaconda\\envs\\py36\\lib\\site-packages\\sklearn\\model_selection\\_validation.py:515: DataConversionWarning: A column-vector y was passed when a 1d array was expected. Please change the shape of y to (n_samples,), for example using ravel().\n",
      "  estimator.fit(X_train, y_train, **fit_params)\n",
      "D:\\99_file\\01_Anaconda\\envs\\py36\\lib\\site-packages\\sklearn\\model_selection\\_validation.py:515: DataConversionWarning: A column-vector y was passed when a 1d array was expected. Please change the shape of y to (n_samples,), for example using ravel().\n",
      "  estimator.fit(X_train, y_train, **fit_params)\n",
      "D:\\99_file\\01_Anaconda\\envs\\py36\\lib\\site-packages\\sklearn\\model_selection\\_validation.py:515: DataConversionWarning: A column-vector y was passed when a 1d array was expected. Please change the shape of y to (n_samples,), for example using ravel().\n",
      "  estimator.fit(X_train, y_train, **fit_params)\n",
      "D:\\99_file\\01_Anaconda\\envs\\py36\\lib\\site-packages\\sklearn\\model_selection\\_validation.py:515: DataConversionWarning: A column-vector y was passed when a 1d array was expected. Please change the shape of y to (n_samples,), for example using ravel().\n",
      "  estimator.fit(X_train, y_train, **fit_params)\n",
      "D:\\99_file\\01_Anaconda\\envs\\py36\\lib\\site-packages\\sklearn\\model_selection\\_validation.py:515: DataConversionWarning: A column-vector y was passed when a 1d array was expected. Please change the shape of y to (n_samples,), for example using ravel().\n",
      "  estimator.fit(X_train, y_train, **fit_params)\n",
      "D:\\99_file\\01_Anaconda\\envs\\py36\\lib\\site-packages\\sklearn\\model_selection\\_validation.py:515: DataConversionWarning: A column-vector y was passed when a 1d array was expected. Please change the shape of y to (n_samples,), for example using ravel().\n",
      "  estimator.fit(X_train, y_train, **fit_params)\n",
      "D:\\99_file\\01_Anaconda\\envs\\py36\\lib\\site-packages\\sklearn\\model_selection\\_validation.py:515: DataConversionWarning: A column-vector y was passed when a 1d array was expected. Please change the shape of y to (n_samples,), for example using ravel().\n",
      "  estimator.fit(X_train, y_train, **fit_params)\n"
     ]
    },
    {
     "name": "stderr",
     "output_type": "stream",
     "text": [
      "D:\\99_file\\01_Anaconda\\envs\\py36\\lib\\site-packages\\sklearn\\model_selection\\_validation.py:515: DataConversionWarning: A column-vector y was passed when a 1d array was expected. Please change the shape of y to (n_samples,), for example using ravel().\n",
      "  estimator.fit(X_train, y_train, **fit_params)\n",
      "D:\\99_file\\01_Anaconda\\envs\\py36\\lib\\site-packages\\sklearn\\model_selection\\_validation.py:515: DataConversionWarning: A column-vector y was passed when a 1d array was expected. Please change the shape of y to (n_samples,), for example using ravel().\n",
      "  estimator.fit(X_train, y_train, **fit_params)\n",
      "D:\\99_file\\01_Anaconda\\envs\\py36\\lib\\site-packages\\sklearn\\model_selection\\_validation.py:515: DataConversionWarning: A column-vector y was passed when a 1d array was expected. Please change the shape of y to (n_samples,), for example using ravel().\n",
      "  estimator.fit(X_train, y_train, **fit_params)\n",
      "D:\\99_file\\01_Anaconda\\envs\\py36\\lib\\site-packages\\sklearn\\model_selection\\_validation.py:515: DataConversionWarning: A column-vector y was passed when a 1d array was expected. Please change the shape of y to (n_samples,), for example using ravel().\n",
      "  estimator.fit(X_train, y_train, **fit_params)\n",
      "D:\\99_file\\01_Anaconda\\envs\\py36\\lib\\site-packages\\sklearn\\model_selection\\_validation.py:515: DataConversionWarning: A column-vector y was passed when a 1d array was expected. Please change the shape of y to (n_samples,), for example using ravel().\n",
      "  estimator.fit(X_train, y_train, **fit_params)\n",
      "D:\\99_file\\01_Anaconda\\envs\\py36\\lib\\site-packages\\sklearn\\model_selection\\_validation.py:515: DataConversionWarning: A column-vector y was passed when a 1d array was expected. Please change the shape of y to (n_samples,), for example using ravel().\n",
      "  estimator.fit(X_train, y_train, **fit_params)\n",
      "D:\\99_file\\01_Anaconda\\envs\\py36\\lib\\site-packages\\sklearn\\model_selection\\_validation.py:515: DataConversionWarning: A column-vector y was passed when a 1d array was expected. Please change the shape of y to (n_samples,), for example using ravel().\n",
      "  estimator.fit(X_train, y_train, **fit_params)\n",
      "D:\\99_file\\01_Anaconda\\envs\\py36\\lib\\site-packages\\sklearn\\model_selection\\_validation.py:515: DataConversionWarning: A column-vector y was passed when a 1d array was expected. Please change the shape of y to (n_samples,), for example using ravel().\n",
      "  estimator.fit(X_train, y_train, **fit_params)\n",
      "D:\\99_file\\01_Anaconda\\envs\\py36\\lib\\site-packages\\sklearn\\model_selection\\_validation.py:515: DataConversionWarning: A column-vector y was passed when a 1d array was expected. Please change the shape of y to (n_samples,), for example using ravel().\n",
      "  estimator.fit(X_train, y_train, **fit_params)\n",
      "D:\\99_file\\01_Anaconda\\envs\\py36\\lib\\site-packages\\sklearn\\model_selection\\_validation.py:515: DataConversionWarning: A column-vector y was passed when a 1d array was expected. Please change the shape of y to (n_samples,), for example using ravel().\n",
      "  estimator.fit(X_train, y_train, **fit_params)\n",
      "D:\\99_file\\01_Anaconda\\envs\\py36\\lib\\site-packages\\sklearn\\model_selection\\_validation.py:515: DataConversionWarning: A column-vector y was passed when a 1d array was expected. Please change the shape of y to (n_samples,), for example using ravel().\n",
      "  estimator.fit(X_train, y_train, **fit_params)\n",
      "D:\\99_file\\01_Anaconda\\envs\\py36\\lib\\site-packages\\sklearn\\model_selection\\_validation.py:515: DataConversionWarning: A column-vector y was passed when a 1d array was expected. Please change the shape of y to (n_samples,), for example using ravel().\n",
      "  estimator.fit(X_train, y_train, **fit_params)\n",
      "D:\\99_file\\01_Anaconda\\envs\\py36\\lib\\site-packages\\sklearn\\model_selection\\_validation.py:515: DataConversionWarning: A column-vector y was passed when a 1d array was expected. Please change the shape of y to (n_samples,), for example using ravel().\n",
      "  estimator.fit(X_train, y_train, **fit_params)\n",
      "D:\\99_file\\01_Anaconda\\envs\\py36\\lib\\site-packages\\sklearn\\model_selection\\_validation.py:515: DataConversionWarning: A column-vector y was passed when a 1d array was expected. Please change the shape of y to (n_samples,), for example using ravel().\n",
      "  estimator.fit(X_train, y_train, **fit_params)\n",
      "D:\\99_file\\01_Anaconda\\envs\\py36\\lib\\site-packages\\sklearn\\model_selection\\_validation.py:515: DataConversionWarning: A column-vector y was passed when a 1d array was expected. Please change the shape of y to (n_samples,), for example using ravel().\n",
      "  estimator.fit(X_train, y_train, **fit_params)\n",
      "D:\\99_file\\01_Anaconda\\envs\\py36\\lib\\site-packages\\sklearn\\model_selection\\_validation.py:515: DataConversionWarning: A column-vector y was passed when a 1d array was expected. Please change the shape of y to (n_samples,), for example using ravel().\n",
      "  estimator.fit(X_train, y_train, **fit_params)\n",
      "D:\\99_file\\01_Anaconda\\envs\\py36\\lib\\site-packages\\sklearn\\model_selection\\_validation.py:515: DataConversionWarning: A column-vector y was passed when a 1d array was expected. Please change the shape of y to (n_samples,), for example using ravel().\n",
      "  estimator.fit(X_train, y_train, **fit_params)\n",
      "D:\\99_file\\01_Anaconda\\envs\\py36\\lib\\site-packages\\sklearn\\model_selection\\_validation.py:515: DataConversionWarning: A column-vector y was passed when a 1d array was expected. Please change the shape of y to (n_samples,), for example using ravel().\n",
      "  estimator.fit(X_train, y_train, **fit_params)\n",
      "D:\\99_file\\01_Anaconda\\envs\\py36\\lib\\site-packages\\sklearn\\model_selection\\_validation.py:515: DataConversionWarning: A column-vector y was passed when a 1d array was expected. Please change the shape of y to (n_samples,), for example using ravel().\n",
      "  estimator.fit(X_train, y_train, **fit_params)\n",
      "D:\\99_file\\01_Anaconda\\envs\\py36\\lib\\site-packages\\sklearn\\model_selection\\_validation.py:515: DataConversionWarning: A column-vector y was passed when a 1d array was expected. Please change the shape of y to (n_samples,), for example using ravel().\n",
      "  estimator.fit(X_train, y_train, **fit_params)\n",
      "D:\\99_file\\01_Anaconda\\envs\\py36\\lib\\site-packages\\sklearn\\model_selection\\_validation.py:515: DataConversionWarning: A column-vector y was passed when a 1d array was expected. Please change the shape of y to (n_samples,), for example using ravel().\n",
      "  estimator.fit(X_train, y_train, **fit_params)\n",
      "D:\\99_file\\01_Anaconda\\envs\\py36\\lib\\site-packages\\sklearn\\model_selection\\_validation.py:515: DataConversionWarning: A column-vector y was passed when a 1d array was expected. Please change the shape of y to (n_samples,), for example using ravel().\n",
      "  estimator.fit(X_train, y_train, **fit_params)\n",
      "D:\\99_file\\01_Anaconda\\envs\\py36\\lib\\site-packages\\sklearn\\model_selection\\_validation.py:515: DataConversionWarning: A column-vector y was passed when a 1d array was expected. Please change the shape of y to (n_samples,), for example using ravel().\n",
      "  estimator.fit(X_train, y_train, **fit_params)\n",
      "D:\\99_file\\01_Anaconda\\envs\\py36\\lib\\site-packages\\sklearn\\model_selection\\_validation.py:515: DataConversionWarning: A column-vector y was passed when a 1d array was expected. Please change the shape of y to (n_samples,), for example using ravel().\n",
      "  estimator.fit(X_train, y_train, **fit_params)\n",
      "D:\\99_file\\01_Anaconda\\envs\\py36\\lib\\site-packages\\sklearn\\model_selection\\_validation.py:515: DataConversionWarning: A column-vector y was passed when a 1d array was expected. Please change the shape of y to (n_samples,), for example using ravel().\n",
      "  estimator.fit(X_train, y_train, **fit_params)\n",
      "D:\\99_file\\01_Anaconda\\envs\\py36\\lib\\site-packages\\sklearn\\model_selection\\_validation.py:515: DataConversionWarning: A column-vector y was passed when a 1d array was expected. Please change the shape of y to (n_samples,), for example using ravel().\n",
      "  estimator.fit(X_train, y_train, **fit_params)\n",
      "D:\\99_file\\01_Anaconda\\envs\\py36\\lib\\site-packages\\sklearn\\model_selection\\_validation.py:515: DataConversionWarning: A column-vector y was passed when a 1d array was expected. Please change the shape of y to (n_samples,), for example using ravel().\n",
      "  estimator.fit(X_train, y_train, **fit_params)\n",
      "D:\\99_file\\01_Anaconda\\envs\\py36\\lib\\site-packages\\sklearn\\model_selection\\_validation.py:515: DataConversionWarning: A column-vector y was passed when a 1d array was expected. Please change the shape of y to (n_samples,), for example using ravel().\n",
      "  estimator.fit(X_train, y_train, **fit_params)\n"
     ]
    },
    {
     "name": "stderr",
     "output_type": "stream",
     "text": [
      "D:\\99_file\\01_Anaconda\\envs\\py36\\lib\\site-packages\\sklearn\\model_selection\\_validation.py:515: DataConversionWarning: A column-vector y was passed when a 1d array was expected. Please change the shape of y to (n_samples,), for example using ravel().\n",
      "  estimator.fit(X_train, y_train, **fit_params)\n",
      "D:\\99_file\\01_Anaconda\\envs\\py36\\lib\\site-packages\\sklearn\\model_selection\\_validation.py:515: DataConversionWarning: A column-vector y was passed when a 1d array was expected. Please change the shape of y to (n_samples,), for example using ravel().\n",
      "  estimator.fit(X_train, y_train, **fit_params)\n",
      "D:\\99_file\\01_Anaconda\\envs\\py36\\lib\\site-packages\\sklearn\\model_selection\\_validation.py:515: DataConversionWarning: A column-vector y was passed when a 1d array was expected. Please change the shape of y to (n_samples,), for example using ravel().\n",
      "  estimator.fit(X_train, y_train, **fit_params)\n",
      "D:\\99_file\\01_Anaconda\\envs\\py36\\lib\\site-packages\\sklearn\\model_selection\\_validation.py:515: DataConversionWarning: A column-vector y was passed when a 1d array was expected. Please change the shape of y to (n_samples,), for example using ravel().\n",
      "  estimator.fit(X_train, y_train, **fit_params)\n",
      "D:\\99_file\\01_Anaconda\\envs\\py36\\lib\\site-packages\\sklearn\\model_selection\\_validation.py:515: DataConversionWarning: A column-vector y was passed when a 1d array was expected. Please change the shape of y to (n_samples,), for example using ravel().\n",
      "  estimator.fit(X_train, y_train, **fit_params)\n",
      "D:\\99_file\\01_Anaconda\\envs\\py36\\lib\\site-packages\\sklearn\\model_selection\\_validation.py:515: DataConversionWarning: A column-vector y was passed when a 1d array was expected. Please change the shape of y to (n_samples,), for example using ravel().\n",
      "  estimator.fit(X_train, y_train, **fit_params)\n",
      "D:\\99_file\\01_Anaconda\\envs\\py36\\lib\\site-packages\\sklearn\\model_selection\\_validation.py:515: DataConversionWarning: A column-vector y was passed when a 1d array was expected. Please change the shape of y to (n_samples,), for example using ravel().\n",
      "  estimator.fit(X_train, y_train, **fit_params)\n",
      "D:\\99_file\\01_Anaconda\\envs\\py36\\lib\\site-packages\\sklearn\\model_selection\\_validation.py:515: DataConversionWarning: A column-vector y was passed when a 1d array was expected. Please change the shape of y to (n_samples,), for example using ravel().\n",
      "  estimator.fit(X_train, y_train, **fit_params)\n",
      "D:\\99_file\\01_Anaconda\\envs\\py36\\lib\\site-packages\\sklearn\\model_selection\\_validation.py:515: DataConversionWarning: A column-vector y was passed when a 1d array was expected. Please change the shape of y to (n_samples,), for example using ravel().\n",
      "  estimator.fit(X_train, y_train, **fit_params)\n",
      "D:\\99_file\\01_Anaconda\\envs\\py36\\lib\\site-packages\\sklearn\\model_selection\\_validation.py:515: DataConversionWarning: A column-vector y was passed when a 1d array was expected. Please change the shape of y to (n_samples,), for example using ravel().\n",
      "  estimator.fit(X_train, y_train, **fit_params)\n",
      "D:\\99_file\\01_Anaconda\\envs\\py36\\lib\\site-packages\\sklearn\\model_selection\\_validation.py:515: DataConversionWarning: A column-vector y was passed when a 1d array was expected. Please change the shape of y to (n_samples,), for example using ravel().\n",
      "  estimator.fit(X_train, y_train, **fit_params)\n",
      "D:\\99_file\\01_Anaconda\\envs\\py36\\lib\\site-packages\\sklearn\\model_selection\\_validation.py:515: DataConversionWarning: A column-vector y was passed when a 1d array was expected. Please change the shape of y to (n_samples,), for example using ravel().\n",
      "  estimator.fit(X_train, y_train, **fit_params)\n",
      "D:\\99_file\\01_Anaconda\\envs\\py36\\lib\\site-packages\\sklearn\\model_selection\\_validation.py:515: DataConversionWarning: A column-vector y was passed when a 1d array was expected. Please change the shape of y to (n_samples,), for example using ravel().\n",
      "  estimator.fit(X_train, y_train, **fit_params)\n",
      "D:\\99_file\\01_Anaconda\\envs\\py36\\lib\\site-packages\\sklearn\\model_selection\\_validation.py:515: DataConversionWarning: A column-vector y was passed when a 1d array was expected. Please change the shape of y to (n_samples,), for example using ravel().\n",
      "  estimator.fit(X_train, y_train, **fit_params)\n",
      "D:\\99_file\\01_Anaconda\\envs\\py36\\lib\\site-packages\\sklearn\\model_selection\\_validation.py:515: DataConversionWarning: A column-vector y was passed when a 1d array was expected. Please change the shape of y to (n_samples,), for example using ravel().\n",
      "  estimator.fit(X_train, y_train, **fit_params)\n",
      "D:\\99_file\\01_Anaconda\\envs\\py36\\lib\\site-packages\\sklearn\\model_selection\\_validation.py:515: DataConversionWarning: A column-vector y was passed when a 1d array was expected. Please change the shape of y to (n_samples,), for example using ravel().\n",
      "  estimator.fit(X_train, y_train, **fit_params)\n",
      "D:\\99_file\\01_Anaconda\\envs\\py36\\lib\\site-packages\\sklearn\\model_selection\\_validation.py:515: DataConversionWarning: A column-vector y was passed when a 1d array was expected. Please change the shape of y to (n_samples,), for example using ravel().\n",
      "  estimator.fit(X_train, y_train, **fit_params)\n",
      "D:\\99_file\\01_Anaconda\\envs\\py36\\lib\\site-packages\\sklearn\\model_selection\\_validation.py:515: DataConversionWarning: A column-vector y was passed when a 1d array was expected. Please change the shape of y to (n_samples,), for example using ravel().\n",
      "  estimator.fit(X_train, y_train, **fit_params)\n",
      "D:\\99_file\\01_Anaconda\\envs\\py36\\lib\\site-packages\\sklearn\\model_selection\\_validation.py:515: DataConversionWarning: A column-vector y was passed when a 1d array was expected. Please change the shape of y to (n_samples,), for example using ravel().\n",
      "  estimator.fit(X_train, y_train, **fit_params)\n",
      "D:\\99_file\\01_Anaconda\\envs\\py36\\lib\\site-packages\\sklearn\\model_selection\\_validation.py:515: DataConversionWarning: A column-vector y was passed when a 1d array was expected. Please change the shape of y to (n_samples,), for example using ravel().\n",
      "  estimator.fit(X_train, y_train, **fit_params)\n",
      "D:\\99_file\\01_Anaconda\\envs\\py36\\lib\\site-packages\\sklearn\\model_selection\\_validation.py:515: DataConversionWarning: A column-vector y was passed when a 1d array was expected. Please change the shape of y to (n_samples,), for example using ravel().\n",
      "  estimator.fit(X_train, y_train, **fit_params)\n",
      "D:\\99_file\\01_Anaconda\\envs\\py36\\lib\\site-packages\\sklearn\\model_selection\\_validation.py:515: DataConversionWarning: A column-vector y was passed when a 1d array was expected. Please change the shape of y to (n_samples,), for example using ravel().\n",
      "  estimator.fit(X_train, y_train, **fit_params)\n",
      "D:\\99_file\\01_Anaconda\\envs\\py36\\lib\\site-packages\\sklearn\\model_selection\\_validation.py:515: DataConversionWarning: A column-vector y was passed when a 1d array was expected. Please change the shape of y to (n_samples,), for example using ravel().\n",
      "  estimator.fit(X_train, y_train, **fit_params)\n",
      "D:\\99_file\\01_Anaconda\\envs\\py36\\lib\\site-packages\\sklearn\\model_selection\\_validation.py:515: DataConversionWarning: A column-vector y was passed when a 1d array was expected. Please change the shape of y to (n_samples,), for example using ravel().\n",
      "  estimator.fit(X_train, y_train, **fit_params)\n",
      "D:\\99_file\\01_Anaconda\\envs\\py36\\lib\\site-packages\\sklearn\\model_selection\\_validation.py:515: DataConversionWarning: A column-vector y was passed when a 1d array was expected. Please change the shape of y to (n_samples,), for example using ravel().\n",
      "  estimator.fit(X_train, y_train, **fit_params)\n",
      "D:\\99_file\\01_Anaconda\\envs\\py36\\lib\\site-packages\\sklearn\\model_selection\\_validation.py:515: DataConversionWarning: A column-vector y was passed when a 1d array was expected. Please change the shape of y to (n_samples,), for example using ravel().\n",
      "  estimator.fit(X_train, y_train, **fit_params)\n",
      "D:\\99_file\\01_Anaconda\\envs\\py36\\lib\\site-packages\\sklearn\\model_selection\\_validation.py:515: DataConversionWarning: A column-vector y was passed when a 1d array was expected. Please change the shape of y to (n_samples,), for example using ravel().\n",
      "  estimator.fit(X_train, y_train, **fit_params)\n",
      "D:\\99_file\\01_Anaconda\\envs\\py36\\lib\\site-packages\\sklearn\\model_selection\\_validation.py:515: DataConversionWarning: A column-vector y was passed when a 1d array was expected. Please change the shape of y to (n_samples,), for example using ravel().\n",
      "  estimator.fit(X_train, y_train, **fit_params)\n"
     ]
    },
    {
     "name": "stderr",
     "output_type": "stream",
     "text": [
      "D:\\99_file\\01_Anaconda\\envs\\py36\\lib\\site-packages\\sklearn\\model_selection\\_validation.py:515: DataConversionWarning: A column-vector y was passed when a 1d array was expected. Please change the shape of y to (n_samples,), for example using ravel().\n",
      "  estimator.fit(X_train, y_train, **fit_params)\n",
      "D:\\99_file\\01_Anaconda\\envs\\py36\\lib\\site-packages\\sklearn\\model_selection\\_validation.py:515: DataConversionWarning: A column-vector y was passed when a 1d array was expected. Please change the shape of y to (n_samples,), for example using ravel().\n",
      "  estimator.fit(X_train, y_train, **fit_params)\n",
      "D:\\99_file\\01_Anaconda\\envs\\py36\\lib\\site-packages\\sklearn\\model_selection\\_validation.py:515: DataConversionWarning: A column-vector y was passed when a 1d array was expected. Please change the shape of y to (n_samples,), for example using ravel().\n",
      "  estimator.fit(X_train, y_train, **fit_params)\n",
      "D:\\99_file\\01_Anaconda\\envs\\py36\\lib\\site-packages\\sklearn\\model_selection\\_validation.py:515: DataConversionWarning: A column-vector y was passed when a 1d array was expected. Please change the shape of y to (n_samples,), for example using ravel().\n",
      "  estimator.fit(X_train, y_train, **fit_params)\n",
      "D:\\99_file\\01_Anaconda\\envs\\py36\\lib\\site-packages\\sklearn\\model_selection\\_validation.py:515: DataConversionWarning: A column-vector y was passed when a 1d array was expected. Please change the shape of y to (n_samples,), for example using ravel().\n",
      "  estimator.fit(X_train, y_train, **fit_params)\n",
      "D:\\99_file\\01_Anaconda\\envs\\py36\\lib\\site-packages\\sklearn\\model_selection\\_validation.py:515: DataConversionWarning: A column-vector y was passed when a 1d array was expected. Please change the shape of y to (n_samples,), for example using ravel().\n",
      "  estimator.fit(X_train, y_train, **fit_params)\n",
      "D:\\99_file\\01_Anaconda\\envs\\py36\\lib\\site-packages\\sklearn\\model_selection\\_validation.py:515: DataConversionWarning: A column-vector y was passed when a 1d array was expected. Please change the shape of y to (n_samples,), for example using ravel().\n",
      "  estimator.fit(X_train, y_train, **fit_params)\n",
      "D:\\99_file\\01_Anaconda\\envs\\py36\\lib\\site-packages\\sklearn\\model_selection\\_validation.py:515: DataConversionWarning: A column-vector y was passed when a 1d array was expected. Please change the shape of y to (n_samples,), for example using ravel().\n",
      "  estimator.fit(X_train, y_train, **fit_params)\n",
      "D:\\99_file\\01_Anaconda\\envs\\py36\\lib\\site-packages\\sklearn\\model_selection\\_validation.py:515: DataConversionWarning: A column-vector y was passed when a 1d array was expected. Please change the shape of y to (n_samples,), for example using ravel().\n",
      "  estimator.fit(X_train, y_train, **fit_params)\n",
      "D:\\99_file\\01_Anaconda\\envs\\py36\\lib\\site-packages\\sklearn\\model_selection\\_validation.py:515: DataConversionWarning: A column-vector y was passed when a 1d array was expected. Please change the shape of y to (n_samples,), for example using ravel().\n",
      "  estimator.fit(X_train, y_train, **fit_params)\n",
      "D:\\99_file\\01_Anaconda\\envs\\py36\\lib\\site-packages\\sklearn\\model_selection\\_validation.py:515: DataConversionWarning: A column-vector y was passed when a 1d array was expected. Please change the shape of y to (n_samples,), for example using ravel().\n",
      "  estimator.fit(X_train, y_train, **fit_params)\n",
      "D:\\99_file\\01_Anaconda\\envs\\py36\\lib\\site-packages\\sklearn\\model_selection\\_validation.py:515: DataConversionWarning: A column-vector y was passed when a 1d array was expected. Please change the shape of y to (n_samples,), for example using ravel().\n",
      "  estimator.fit(X_train, y_train, **fit_params)\n",
      "D:\\99_file\\01_Anaconda\\envs\\py36\\lib\\site-packages\\sklearn\\model_selection\\_validation.py:515: DataConversionWarning: A column-vector y was passed when a 1d array was expected. Please change the shape of y to (n_samples,), for example using ravel().\n",
      "  estimator.fit(X_train, y_train, **fit_params)\n",
      "D:\\99_file\\01_Anaconda\\envs\\py36\\lib\\site-packages\\sklearn\\model_selection\\_validation.py:515: DataConversionWarning: A column-vector y was passed when a 1d array was expected. Please change the shape of y to (n_samples,), for example using ravel().\n",
      "  estimator.fit(X_train, y_train, **fit_params)\n",
      "D:\\99_file\\01_Anaconda\\envs\\py36\\lib\\site-packages\\sklearn\\model_selection\\_validation.py:515: DataConversionWarning: A column-vector y was passed when a 1d array was expected. Please change the shape of y to (n_samples,), for example using ravel().\n",
      "  estimator.fit(X_train, y_train, **fit_params)\n",
      "D:\\99_file\\01_Anaconda\\envs\\py36\\lib\\site-packages\\sklearn\\model_selection\\_validation.py:515: DataConversionWarning: A column-vector y was passed when a 1d array was expected. Please change the shape of y to (n_samples,), for example using ravel().\n",
      "  estimator.fit(X_train, y_train, **fit_params)\n",
      "D:\\99_file\\01_Anaconda\\envs\\py36\\lib\\site-packages\\sklearn\\model_selection\\_validation.py:515: DataConversionWarning: A column-vector y was passed when a 1d array was expected. Please change the shape of y to (n_samples,), for example using ravel().\n",
      "  estimator.fit(X_train, y_train, **fit_params)\n",
      "D:\\99_file\\01_Anaconda\\envs\\py36\\lib\\site-packages\\sklearn\\model_selection\\_validation.py:515: DataConversionWarning: A column-vector y was passed when a 1d array was expected. Please change the shape of y to (n_samples,), for example using ravel().\n",
      "  estimator.fit(X_train, y_train, **fit_params)\n",
      "D:\\99_file\\01_Anaconda\\envs\\py36\\lib\\site-packages\\sklearn\\model_selection\\_validation.py:515: DataConversionWarning: A column-vector y was passed when a 1d array was expected. Please change the shape of y to (n_samples,), for example using ravel().\n",
      "  estimator.fit(X_train, y_train, **fit_params)\n",
      "D:\\99_file\\01_Anaconda\\envs\\py36\\lib\\site-packages\\sklearn\\model_selection\\_validation.py:515: DataConversionWarning: A column-vector y was passed when a 1d array was expected. Please change the shape of y to (n_samples,), for example using ravel().\n",
      "  estimator.fit(X_train, y_train, **fit_params)\n",
      "D:\\99_file\\01_Anaconda\\envs\\py36\\lib\\site-packages\\sklearn\\model_selection\\_validation.py:515: DataConversionWarning: A column-vector y was passed when a 1d array was expected. Please change the shape of y to (n_samples,), for example using ravel().\n",
      "  estimator.fit(X_train, y_train, **fit_params)\n",
      "D:\\99_file\\01_Anaconda\\envs\\py36\\lib\\site-packages\\sklearn\\model_selection\\_validation.py:515: DataConversionWarning: A column-vector y was passed when a 1d array was expected. Please change the shape of y to (n_samples,), for example using ravel().\n",
      "  estimator.fit(X_train, y_train, **fit_params)\n",
      "D:\\99_file\\01_Anaconda\\envs\\py36\\lib\\site-packages\\sklearn\\model_selection\\_validation.py:515: DataConversionWarning: A column-vector y was passed when a 1d array was expected. Please change the shape of y to (n_samples,), for example using ravel().\n",
      "  estimator.fit(X_train, y_train, **fit_params)\n",
      "D:\\99_file\\01_Anaconda\\envs\\py36\\lib\\site-packages\\sklearn\\model_selection\\_validation.py:515: DataConversionWarning: A column-vector y was passed when a 1d array was expected. Please change the shape of y to (n_samples,), for example using ravel().\n",
      "  estimator.fit(X_train, y_train, **fit_params)\n",
      "D:\\99_file\\01_Anaconda\\envs\\py36\\lib\\site-packages\\sklearn\\model_selection\\_validation.py:515: DataConversionWarning: A column-vector y was passed when a 1d array was expected. Please change the shape of y to (n_samples,), for example using ravel().\n",
      "  estimator.fit(X_train, y_train, **fit_params)\n",
      "D:\\99_file\\01_Anaconda\\envs\\py36\\lib\\site-packages\\sklearn\\model_selection\\_validation.py:515: DataConversionWarning: A column-vector y was passed when a 1d array was expected. Please change the shape of y to (n_samples,), for example using ravel().\n",
      "  estimator.fit(X_train, y_train, **fit_params)\n",
      "D:\\99_file\\01_Anaconda\\envs\\py36\\lib\\site-packages\\sklearn\\model_selection\\_validation.py:515: DataConversionWarning: A column-vector y was passed when a 1d array was expected. Please change the shape of y to (n_samples,), for example using ravel().\n",
      "  estimator.fit(X_train, y_train, **fit_params)\n",
      "D:\\99_file\\01_Anaconda\\envs\\py36\\lib\\site-packages\\sklearn\\model_selection\\_validation.py:515: DataConversionWarning: A column-vector y was passed when a 1d array was expected. Please change the shape of y to (n_samples,), for example using ravel().\n",
      "  estimator.fit(X_train, y_train, **fit_params)\n"
     ]
    },
    {
     "name": "stderr",
     "output_type": "stream",
     "text": [
      "D:\\99_file\\01_Anaconda\\envs\\py36\\lib\\site-packages\\sklearn\\model_selection\\_validation.py:515: DataConversionWarning: A column-vector y was passed when a 1d array was expected. Please change the shape of y to (n_samples,), for example using ravel().\n",
      "  estimator.fit(X_train, y_train, **fit_params)\n",
      "D:\\99_file\\01_Anaconda\\envs\\py36\\lib\\site-packages\\sklearn\\model_selection\\_validation.py:515: DataConversionWarning: A column-vector y was passed when a 1d array was expected. Please change the shape of y to (n_samples,), for example using ravel().\n",
      "  estimator.fit(X_train, y_train, **fit_params)\n",
      "D:\\99_file\\01_Anaconda\\envs\\py36\\lib\\site-packages\\sklearn\\model_selection\\_validation.py:515: DataConversionWarning: A column-vector y was passed when a 1d array was expected. Please change the shape of y to (n_samples,), for example using ravel().\n",
      "  estimator.fit(X_train, y_train, **fit_params)\n",
      "D:\\99_file\\01_Anaconda\\envs\\py36\\lib\\site-packages\\sklearn\\model_selection\\_validation.py:515: DataConversionWarning: A column-vector y was passed when a 1d array was expected. Please change the shape of y to (n_samples,), for example using ravel().\n",
      "  estimator.fit(X_train, y_train, **fit_params)\n",
      "D:\\99_file\\01_Anaconda\\envs\\py36\\lib\\site-packages\\sklearn\\model_selection\\_validation.py:515: DataConversionWarning: A column-vector y was passed when a 1d array was expected. Please change the shape of y to (n_samples,), for example using ravel().\n",
      "  estimator.fit(X_train, y_train, **fit_params)\n",
      "D:\\99_file\\01_Anaconda\\envs\\py36\\lib\\site-packages\\sklearn\\model_selection\\_validation.py:515: DataConversionWarning: A column-vector y was passed when a 1d array was expected. Please change the shape of y to (n_samples,), for example using ravel().\n",
      "  estimator.fit(X_train, y_train, **fit_params)\n",
      "D:\\99_file\\01_Anaconda\\envs\\py36\\lib\\site-packages\\sklearn\\model_selection\\_validation.py:515: DataConversionWarning: A column-vector y was passed when a 1d array was expected. Please change the shape of y to (n_samples,), for example using ravel().\n",
      "  estimator.fit(X_train, y_train, **fit_params)\n",
      "D:\\99_file\\01_Anaconda\\envs\\py36\\lib\\site-packages\\sklearn\\model_selection\\_validation.py:515: DataConversionWarning: A column-vector y was passed when a 1d array was expected. Please change the shape of y to (n_samples,), for example using ravel().\n",
      "  estimator.fit(X_train, y_train, **fit_params)\n",
      "D:\\99_file\\01_Anaconda\\envs\\py36\\lib\\site-packages\\sklearn\\model_selection\\_validation.py:515: DataConversionWarning: A column-vector y was passed when a 1d array was expected. Please change the shape of y to (n_samples,), for example using ravel().\n",
      "  estimator.fit(X_train, y_train, **fit_params)\n",
      "D:\\99_file\\01_Anaconda\\envs\\py36\\lib\\site-packages\\sklearn\\model_selection\\_validation.py:515: DataConversionWarning: A column-vector y was passed when a 1d array was expected. Please change the shape of y to (n_samples,), for example using ravel().\n",
      "  estimator.fit(X_train, y_train, **fit_params)\n",
      "D:\\99_file\\01_Anaconda\\envs\\py36\\lib\\site-packages\\sklearn\\model_selection\\_validation.py:515: DataConversionWarning: A column-vector y was passed when a 1d array was expected. Please change the shape of y to (n_samples,), for example using ravel().\n",
      "  estimator.fit(X_train, y_train, **fit_params)\n",
      "D:\\99_file\\01_Anaconda\\envs\\py36\\lib\\site-packages\\sklearn\\model_selection\\_validation.py:515: DataConversionWarning: A column-vector y was passed when a 1d array was expected. Please change the shape of y to (n_samples,), for example using ravel().\n",
      "  estimator.fit(X_train, y_train, **fit_params)\n",
      "D:\\99_file\\01_Anaconda\\envs\\py36\\lib\\site-packages\\sklearn\\model_selection\\_validation.py:515: DataConversionWarning: A column-vector y was passed when a 1d array was expected. Please change the shape of y to (n_samples,), for example using ravel().\n",
      "  estimator.fit(X_train, y_train, **fit_params)\n",
      "D:\\99_file\\01_Anaconda\\envs\\py36\\lib\\site-packages\\sklearn\\model_selection\\_validation.py:515: DataConversionWarning: A column-vector y was passed when a 1d array was expected. Please change the shape of y to (n_samples,), for example using ravel().\n",
      "  estimator.fit(X_train, y_train, **fit_params)\n",
      "D:\\99_file\\01_Anaconda\\envs\\py36\\lib\\site-packages\\sklearn\\model_selection\\_validation.py:515: DataConversionWarning: A column-vector y was passed when a 1d array was expected. Please change the shape of y to (n_samples,), for example using ravel().\n",
      "  estimator.fit(X_train, y_train, **fit_params)\n",
      "D:\\99_file\\01_Anaconda\\envs\\py36\\lib\\site-packages\\sklearn\\model_selection\\_validation.py:515: DataConversionWarning: A column-vector y was passed when a 1d array was expected. Please change the shape of y to (n_samples,), for example using ravel().\n",
      "  estimator.fit(X_train, y_train, **fit_params)\n",
      "D:\\99_file\\01_Anaconda\\envs\\py36\\lib\\site-packages\\sklearn\\model_selection\\_validation.py:515: DataConversionWarning: A column-vector y was passed when a 1d array was expected. Please change the shape of y to (n_samples,), for example using ravel().\n",
      "  estimator.fit(X_train, y_train, **fit_params)\n",
      "D:\\99_file\\01_Anaconda\\envs\\py36\\lib\\site-packages\\sklearn\\model_selection\\_validation.py:515: DataConversionWarning: A column-vector y was passed when a 1d array was expected. Please change the shape of y to (n_samples,), for example using ravel().\n",
      "  estimator.fit(X_train, y_train, **fit_params)\n",
      "D:\\99_file\\01_Anaconda\\envs\\py36\\lib\\site-packages\\sklearn\\model_selection\\_validation.py:515: DataConversionWarning: A column-vector y was passed when a 1d array was expected. Please change the shape of y to (n_samples,), for example using ravel().\n",
      "  estimator.fit(X_train, y_train, **fit_params)\n",
      "D:\\99_file\\01_Anaconda\\envs\\py36\\lib\\site-packages\\sklearn\\model_selection\\_validation.py:515: DataConversionWarning: A column-vector y was passed when a 1d array was expected. Please change the shape of y to (n_samples,), for example using ravel().\n",
      "  estimator.fit(X_train, y_train, **fit_params)\n",
      "D:\\99_file\\01_Anaconda\\envs\\py36\\lib\\site-packages\\sklearn\\model_selection\\_validation.py:515: DataConversionWarning: A column-vector y was passed when a 1d array was expected. Please change the shape of y to (n_samples,), for example using ravel().\n",
      "  estimator.fit(X_train, y_train, **fit_params)\n",
      "D:\\99_file\\01_Anaconda\\envs\\py36\\lib\\site-packages\\sklearn\\model_selection\\_validation.py:515: DataConversionWarning: A column-vector y was passed when a 1d array was expected. Please change the shape of y to (n_samples,), for example using ravel().\n",
      "  estimator.fit(X_train, y_train, **fit_params)\n",
      "D:\\99_file\\01_Anaconda\\envs\\py36\\lib\\site-packages\\sklearn\\model_selection\\_validation.py:515: DataConversionWarning: A column-vector y was passed when a 1d array was expected. Please change the shape of y to (n_samples,), for example using ravel().\n",
      "  estimator.fit(X_train, y_train, **fit_params)\n",
      "D:\\99_file\\01_Anaconda\\envs\\py36\\lib\\site-packages\\sklearn\\model_selection\\_validation.py:515: DataConversionWarning: A column-vector y was passed when a 1d array was expected. Please change the shape of y to (n_samples,), for example using ravel().\n",
      "  estimator.fit(X_train, y_train, **fit_params)\n",
      "D:\\99_file\\01_Anaconda\\envs\\py36\\lib\\site-packages\\sklearn\\model_selection\\_validation.py:515: DataConversionWarning: A column-vector y was passed when a 1d array was expected. Please change the shape of y to (n_samples,), for example using ravel().\n",
      "  estimator.fit(X_train, y_train, **fit_params)\n",
      "D:\\99_file\\01_Anaconda\\envs\\py36\\lib\\site-packages\\sklearn\\model_selection\\_validation.py:515: DataConversionWarning: A column-vector y was passed when a 1d array was expected. Please change the shape of y to (n_samples,), for example using ravel().\n",
      "  estimator.fit(X_train, y_train, **fit_params)\n",
      "D:\\99_file\\01_Anaconda\\envs\\py36\\lib\\site-packages\\sklearn\\model_selection\\_validation.py:515: DataConversionWarning: A column-vector y was passed when a 1d array was expected. Please change the shape of y to (n_samples,), for example using ravel().\n",
      "  estimator.fit(X_train, y_train, **fit_params)\n",
      "D:\\99_file\\01_Anaconda\\envs\\py36\\lib\\site-packages\\sklearn\\model_selection\\_validation.py:515: DataConversionWarning: A column-vector y was passed when a 1d array was expected. Please change the shape of y to (n_samples,), for example using ravel().\n",
      "  estimator.fit(X_train, y_train, **fit_params)\n"
     ]
    },
    {
     "name": "stderr",
     "output_type": "stream",
     "text": [
      "D:\\99_file\\01_Anaconda\\envs\\py36\\lib\\site-packages\\sklearn\\model_selection\\_validation.py:515: DataConversionWarning: A column-vector y was passed when a 1d array was expected. Please change the shape of y to (n_samples,), for example using ravel().\n",
      "  estimator.fit(X_train, y_train, **fit_params)\n",
      "D:\\99_file\\01_Anaconda\\envs\\py36\\lib\\site-packages\\sklearn\\model_selection\\_validation.py:515: DataConversionWarning: A column-vector y was passed when a 1d array was expected. Please change the shape of y to (n_samples,), for example using ravel().\n",
      "  estimator.fit(X_train, y_train, **fit_params)\n",
      "D:\\99_file\\01_Anaconda\\envs\\py36\\lib\\site-packages\\sklearn\\model_selection\\_validation.py:515: DataConversionWarning: A column-vector y was passed when a 1d array was expected. Please change the shape of y to (n_samples,), for example using ravel().\n",
      "  estimator.fit(X_train, y_train, **fit_params)\n",
      "D:\\99_file\\01_Anaconda\\envs\\py36\\lib\\site-packages\\sklearn\\model_selection\\_validation.py:515: DataConversionWarning: A column-vector y was passed when a 1d array was expected. Please change the shape of y to (n_samples,), for example using ravel().\n",
      "  estimator.fit(X_train, y_train, **fit_params)\n",
      "D:\\99_file\\01_Anaconda\\envs\\py36\\lib\\site-packages\\sklearn\\model_selection\\_validation.py:515: DataConversionWarning: A column-vector y was passed when a 1d array was expected. Please change the shape of y to (n_samples,), for example using ravel().\n",
      "  estimator.fit(X_train, y_train, **fit_params)\n",
      "D:\\99_file\\01_Anaconda\\envs\\py36\\lib\\site-packages\\sklearn\\model_selection\\_validation.py:515: DataConversionWarning: A column-vector y was passed when a 1d array was expected. Please change the shape of y to (n_samples,), for example using ravel().\n",
      "  estimator.fit(X_train, y_train, **fit_params)\n",
      "D:\\99_file\\01_Anaconda\\envs\\py36\\lib\\site-packages\\sklearn\\model_selection\\_validation.py:515: DataConversionWarning: A column-vector y was passed when a 1d array was expected. Please change the shape of y to (n_samples,), for example using ravel().\n",
      "  estimator.fit(X_train, y_train, **fit_params)\n",
      "D:\\99_file\\01_Anaconda\\envs\\py36\\lib\\site-packages\\sklearn\\model_selection\\_validation.py:515: DataConversionWarning: A column-vector y was passed when a 1d array was expected. Please change the shape of y to (n_samples,), for example using ravel().\n",
      "  estimator.fit(X_train, y_train, **fit_params)\n",
      "D:\\99_file\\01_Anaconda\\envs\\py36\\lib\\site-packages\\sklearn\\model_selection\\_validation.py:515: DataConversionWarning: A column-vector y was passed when a 1d array was expected. Please change the shape of y to (n_samples,), for example using ravel().\n",
      "  estimator.fit(X_train, y_train, **fit_params)\n",
      "D:\\99_file\\01_Anaconda\\envs\\py36\\lib\\site-packages\\sklearn\\model_selection\\_validation.py:515: DataConversionWarning: A column-vector y was passed when a 1d array was expected. Please change the shape of y to (n_samples,), for example using ravel().\n",
      "  estimator.fit(X_train, y_train, **fit_params)\n",
      "D:\\99_file\\01_Anaconda\\envs\\py36\\lib\\site-packages\\sklearn\\model_selection\\_validation.py:515: DataConversionWarning: A column-vector y was passed when a 1d array was expected. Please change the shape of y to (n_samples,), for example using ravel().\n",
      "  estimator.fit(X_train, y_train, **fit_params)\n",
      "D:\\99_file\\01_Anaconda\\envs\\py36\\lib\\site-packages\\sklearn\\model_selection\\_validation.py:515: DataConversionWarning: A column-vector y was passed when a 1d array was expected. Please change the shape of y to (n_samples,), for example using ravel().\n",
      "  estimator.fit(X_train, y_train, **fit_params)\n",
      "D:\\99_file\\01_Anaconda\\envs\\py36\\lib\\site-packages\\sklearn\\model_selection\\_validation.py:515: DataConversionWarning: A column-vector y was passed when a 1d array was expected. Please change the shape of y to (n_samples,), for example using ravel().\n",
      "  estimator.fit(X_train, y_train, **fit_params)\n",
      "D:\\99_file\\01_Anaconda\\envs\\py36\\lib\\site-packages\\sklearn\\model_selection\\_validation.py:515: DataConversionWarning: A column-vector y was passed when a 1d array was expected. Please change the shape of y to (n_samples,), for example using ravel().\n",
      "  estimator.fit(X_train, y_train, **fit_params)\n",
      "D:\\99_file\\01_Anaconda\\envs\\py36\\lib\\site-packages\\sklearn\\model_selection\\_validation.py:515: DataConversionWarning: A column-vector y was passed when a 1d array was expected. Please change the shape of y to (n_samples,), for example using ravel().\n",
      "  estimator.fit(X_train, y_train, **fit_params)\n",
      "D:\\99_file\\01_Anaconda\\envs\\py36\\lib\\site-packages\\sklearn\\model_selection\\_validation.py:515: DataConversionWarning: A column-vector y was passed when a 1d array was expected. Please change the shape of y to (n_samples,), for example using ravel().\n",
      "  estimator.fit(X_train, y_train, **fit_params)\n",
      "D:\\99_file\\01_Anaconda\\envs\\py36\\lib\\site-packages\\sklearn\\model_selection\\_validation.py:515: DataConversionWarning: A column-vector y was passed when a 1d array was expected. Please change the shape of y to (n_samples,), for example using ravel().\n",
      "  estimator.fit(X_train, y_train, **fit_params)\n",
      "D:\\99_file\\01_Anaconda\\envs\\py36\\lib\\site-packages\\sklearn\\model_selection\\_validation.py:515: DataConversionWarning: A column-vector y was passed when a 1d array was expected. Please change the shape of y to (n_samples,), for example using ravel().\n",
      "  estimator.fit(X_train, y_train, **fit_params)\n",
      "D:\\99_file\\01_Anaconda\\envs\\py36\\lib\\site-packages\\sklearn\\model_selection\\_validation.py:515: DataConversionWarning: A column-vector y was passed when a 1d array was expected. Please change the shape of y to (n_samples,), for example using ravel().\n",
      "  estimator.fit(X_train, y_train, **fit_params)\n",
      "D:\\99_file\\01_Anaconda\\envs\\py36\\lib\\site-packages\\sklearn\\model_selection\\_validation.py:515: DataConversionWarning: A column-vector y was passed when a 1d array was expected. Please change the shape of y to (n_samples,), for example using ravel().\n",
      "  estimator.fit(X_train, y_train, **fit_params)\n",
      "D:\\99_file\\01_Anaconda\\envs\\py36\\lib\\site-packages\\sklearn\\model_selection\\_validation.py:515: DataConversionWarning: A column-vector y was passed when a 1d array was expected. Please change the shape of y to (n_samples,), for example using ravel().\n",
      "  estimator.fit(X_train, y_train, **fit_params)\n",
      "D:\\99_file\\01_Anaconda\\envs\\py36\\lib\\site-packages\\sklearn\\model_selection\\_validation.py:515: DataConversionWarning: A column-vector y was passed when a 1d array was expected. Please change the shape of y to (n_samples,), for example using ravel().\n",
      "  estimator.fit(X_train, y_train, **fit_params)\n",
      "D:\\99_file\\01_Anaconda\\envs\\py36\\lib\\site-packages\\sklearn\\model_selection\\_validation.py:515: DataConversionWarning: A column-vector y was passed when a 1d array was expected. Please change the shape of y to (n_samples,), for example using ravel().\n",
      "  estimator.fit(X_train, y_train, **fit_params)\n",
      "D:\\99_file\\01_Anaconda\\envs\\py36\\lib\\site-packages\\sklearn\\model_selection\\_validation.py:515: DataConversionWarning: A column-vector y was passed when a 1d array was expected. Please change the shape of y to (n_samples,), for example using ravel().\n",
      "  estimator.fit(X_train, y_train, **fit_params)\n",
      "D:\\99_file\\01_Anaconda\\envs\\py36\\lib\\site-packages\\sklearn\\model_selection\\_validation.py:515: DataConversionWarning: A column-vector y was passed when a 1d array was expected. Please change the shape of y to (n_samples,), for example using ravel().\n",
      "  estimator.fit(X_train, y_train, **fit_params)\n",
      "D:\\99_file\\01_Anaconda\\envs\\py36\\lib\\site-packages\\sklearn\\model_selection\\_validation.py:515: DataConversionWarning: A column-vector y was passed when a 1d array was expected. Please change the shape of y to (n_samples,), for example using ravel().\n",
      "  estimator.fit(X_train, y_train, **fit_params)\n",
      "D:\\99_file\\01_Anaconda\\envs\\py36\\lib\\site-packages\\sklearn\\model_selection\\_validation.py:515: DataConversionWarning: A column-vector y was passed when a 1d array was expected. Please change the shape of y to (n_samples,), for example using ravel().\n",
      "  estimator.fit(X_train, y_train, **fit_params)\n",
      "D:\\99_file\\01_Anaconda\\envs\\py36\\lib\\site-packages\\sklearn\\model_selection\\_validation.py:515: DataConversionWarning: A column-vector y was passed when a 1d array was expected. Please change the shape of y to (n_samples,), for example using ravel().\n",
      "  estimator.fit(X_train, y_train, **fit_params)\n"
     ]
    },
    {
     "name": "stderr",
     "output_type": "stream",
     "text": [
      "D:\\99_file\\01_Anaconda\\envs\\py36\\lib\\site-packages\\sklearn\\model_selection\\_validation.py:515: DataConversionWarning: A column-vector y was passed when a 1d array was expected. Please change the shape of y to (n_samples,), for example using ravel().\n",
      "  estimator.fit(X_train, y_train, **fit_params)\n",
      "D:\\99_file\\01_Anaconda\\envs\\py36\\lib\\site-packages\\sklearn\\model_selection\\_validation.py:515: DataConversionWarning: A column-vector y was passed when a 1d array was expected. Please change the shape of y to (n_samples,), for example using ravel().\n",
      "  estimator.fit(X_train, y_train, **fit_params)\n",
      "D:\\99_file\\01_Anaconda\\envs\\py36\\lib\\site-packages\\sklearn\\model_selection\\_validation.py:515: DataConversionWarning: A column-vector y was passed when a 1d array was expected. Please change the shape of y to (n_samples,), for example using ravel().\n",
      "  estimator.fit(X_train, y_train, **fit_params)\n",
      "D:\\99_file\\01_Anaconda\\envs\\py36\\lib\\site-packages\\sklearn\\model_selection\\_validation.py:515: DataConversionWarning: A column-vector y was passed when a 1d array was expected. Please change the shape of y to (n_samples,), for example using ravel().\n",
      "  estimator.fit(X_train, y_train, **fit_params)\n",
      "D:\\99_file\\01_Anaconda\\envs\\py36\\lib\\site-packages\\sklearn\\model_selection\\_validation.py:515: DataConversionWarning: A column-vector y was passed when a 1d array was expected. Please change the shape of y to (n_samples,), for example using ravel().\n",
      "  estimator.fit(X_train, y_train, **fit_params)\n",
      "D:\\99_file\\01_Anaconda\\envs\\py36\\lib\\site-packages\\sklearn\\model_selection\\_validation.py:515: DataConversionWarning: A column-vector y was passed when a 1d array was expected. Please change the shape of y to (n_samples,), for example using ravel().\n",
      "  estimator.fit(X_train, y_train, **fit_params)\n",
      "D:\\99_file\\01_Anaconda\\envs\\py36\\lib\\site-packages\\sklearn\\model_selection\\_validation.py:515: DataConversionWarning: A column-vector y was passed when a 1d array was expected. Please change the shape of y to (n_samples,), for example using ravel().\n",
      "  estimator.fit(X_train, y_train, **fit_params)\n",
      "D:\\99_file\\01_Anaconda\\envs\\py36\\lib\\site-packages\\sklearn\\model_selection\\_validation.py:515: DataConversionWarning: A column-vector y was passed when a 1d array was expected. Please change the shape of y to (n_samples,), for example using ravel().\n",
      "  estimator.fit(X_train, y_train, **fit_params)\n",
      "D:\\99_file\\01_Anaconda\\envs\\py36\\lib\\site-packages\\sklearn\\model_selection\\_validation.py:515: DataConversionWarning: A column-vector y was passed when a 1d array was expected. Please change the shape of y to (n_samples,), for example using ravel().\n",
      "  estimator.fit(X_train, y_train, **fit_params)\n",
      "D:\\99_file\\01_Anaconda\\envs\\py36\\lib\\site-packages\\sklearn\\model_selection\\_validation.py:515: DataConversionWarning: A column-vector y was passed when a 1d array was expected. Please change the shape of y to (n_samples,), for example using ravel().\n",
      "  estimator.fit(X_train, y_train, **fit_params)\n",
      "D:\\99_file\\01_Anaconda\\envs\\py36\\lib\\site-packages\\sklearn\\model_selection\\_validation.py:515: DataConversionWarning: A column-vector y was passed when a 1d array was expected. Please change the shape of y to (n_samples,), for example using ravel().\n",
      "  estimator.fit(X_train, y_train, **fit_params)\n",
      "D:\\99_file\\01_Anaconda\\envs\\py36\\lib\\site-packages\\sklearn\\model_selection\\_validation.py:515: DataConversionWarning: A column-vector y was passed when a 1d array was expected. Please change the shape of y to (n_samples,), for example using ravel().\n",
      "  estimator.fit(X_train, y_train, **fit_params)\n",
      "D:\\99_file\\01_Anaconda\\envs\\py36\\lib\\site-packages\\sklearn\\model_selection\\_validation.py:515: DataConversionWarning: A column-vector y was passed when a 1d array was expected. Please change the shape of y to (n_samples,), for example using ravel().\n",
      "  estimator.fit(X_train, y_train, **fit_params)\n",
      "D:\\99_file\\01_Anaconda\\envs\\py36\\lib\\site-packages\\sklearn\\model_selection\\_validation.py:515: DataConversionWarning: A column-vector y was passed when a 1d array was expected. Please change the shape of y to (n_samples,), for example using ravel().\n",
      "  estimator.fit(X_train, y_train, **fit_params)\n",
      "D:\\99_file\\01_Anaconda\\envs\\py36\\lib\\site-packages\\sklearn\\model_selection\\_validation.py:515: DataConversionWarning: A column-vector y was passed when a 1d array was expected. Please change the shape of y to (n_samples,), for example using ravel().\n",
      "  estimator.fit(X_train, y_train, **fit_params)\n",
      "D:\\99_file\\01_Anaconda\\envs\\py36\\lib\\site-packages\\sklearn\\model_selection\\_validation.py:515: DataConversionWarning: A column-vector y was passed when a 1d array was expected. Please change the shape of y to (n_samples,), for example using ravel().\n",
      "  estimator.fit(X_train, y_train, **fit_params)\n",
      "D:\\99_file\\01_Anaconda\\envs\\py36\\lib\\site-packages\\sklearn\\model_selection\\_validation.py:515: DataConversionWarning: A column-vector y was passed when a 1d array was expected. Please change the shape of y to (n_samples,), for example using ravel().\n",
      "  estimator.fit(X_train, y_train, **fit_params)\n",
      "D:\\99_file\\01_Anaconda\\envs\\py36\\lib\\site-packages\\sklearn\\model_selection\\_validation.py:515: DataConversionWarning: A column-vector y was passed when a 1d array was expected. Please change the shape of y to (n_samples,), for example using ravel().\n",
      "  estimator.fit(X_train, y_train, **fit_params)\n",
      "D:\\99_file\\01_Anaconda\\envs\\py36\\lib\\site-packages\\sklearn\\model_selection\\_validation.py:515: DataConversionWarning: A column-vector y was passed when a 1d array was expected. Please change the shape of y to (n_samples,), for example using ravel().\n",
      "  estimator.fit(X_train, y_train, **fit_params)\n",
      "D:\\99_file\\01_Anaconda\\envs\\py36\\lib\\site-packages\\sklearn\\model_selection\\_validation.py:515: DataConversionWarning: A column-vector y was passed when a 1d array was expected. Please change the shape of y to (n_samples,), for example using ravel().\n",
      "  estimator.fit(X_train, y_train, **fit_params)\n",
      "D:\\99_file\\01_Anaconda\\envs\\py36\\lib\\site-packages\\sklearn\\model_selection\\_validation.py:515: DataConversionWarning: A column-vector y was passed when a 1d array was expected. Please change the shape of y to (n_samples,), for example using ravel().\n",
      "  estimator.fit(X_train, y_train, **fit_params)\n",
      "D:\\99_file\\01_Anaconda\\envs\\py36\\lib\\site-packages\\sklearn\\model_selection\\_validation.py:515: DataConversionWarning: A column-vector y was passed when a 1d array was expected. Please change the shape of y to (n_samples,), for example using ravel().\n",
      "  estimator.fit(X_train, y_train, **fit_params)\n",
      "D:\\99_file\\01_Anaconda\\envs\\py36\\lib\\site-packages\\sklearn\\model_selection\\_validation.py:515: DataConversionWarning: A column-vector y was passed when a 1d array was expected. Please change the shape of y to (n_samples,), for example using ravel().\n",
      "  estimator.fit(X_train, y_train, **fit_params)\n",
      "D:\\99_file\\01_Anaconda\\envs\\py36\\lib\\site-packages\\sklearn\\model_selection\\_validation.py:515: DataConversionWarning: A column-vector y was passed when a 1d array was expected. Please change the shape of y to (n_samples,), for example using ravel().\n",
      "  estimator.fit(X_train, y_train, **fit_params)\n",
      "D:\\99_file\\01_Anaconda\\envs\\py36\\lib\\site-packages\\sklearn\\model_selection\\_validation.py:515: DataConversionWarning: A column-vector y was passed when a 1d array was expected. Please change the shape of y to (n_samples,), for example using ravel().\n",
      "  estimator.fit(X_train, y_train, **fit_params)\n",
      "D:\\99_file\\01_Anaconda\\envs\\py36\\lib\\site-packages\\sklearn\\model_selection\\_validation.py:515: DataConversionWarning: A column-vector y was passed when a 1d array was expected. Please change the shape of y to (n_samples,), for example using ravel().\n",
      "  estimator.fit(X_train, y_train, **fit_params)\n",
      "D:\\99_file\\01_Anaconda\\envs\\py36\\lib\\site-packages\\sklearn\\model_selection\\_validation.py:515: DataConversionWarning: A column-vector y was passed when a 1d array was expected. Please change the shape of y to (n_samples,), for example using ravel().\n",
      "  estimator.fit(X_train, y_train, **fit_params)\n",
      "D:\\99_file\\01_Anaconda\\envs\\py36\\lib\\site-packages\\sklearn\\model_selection\\_validation.py:515: DataConversionWarning: A column-vector y was passed when a 1d array was expected. Please change the shape of y to (n_samples,), for example using ravel().\n",
      "  estimator.fit(X_train, y_train, **fit_params)\n"
     ]
    },
    {
     "name": "stderr",
     "output_type": "stream",
     "text": [
      "D:\\99_file\\01_Anaconda\\envs\\py36\\lib\\site-packages\\sklearn\\model_selection\\_validation.py:515: DataConversionWarning: A column-vector y was passed when a 1d array was expected. Please change the shape of y to (n_samples,), for example using ravel().\n",
      "  estimator.fit(X_train, y_train, **fit_params)\n",
      "D:\\99_file\\01_Anaconda\\envs\\py36\\lib\\site-packages\\sklearn\\model_selection\\_validation.py:515: DataConversionWarning: A column-vector y was passed when a 1d array was expected. Please change the shape of y to (n_samples,), for example using ravel().\n",
      "  estimator.fit(X_train, y_train, **fit_params)\n",
      "D:\\99_file\\01_Anaconda\\envs\\py36\\lib\\site-packages\\sklearn\\model_selection\\_validation.py:515: DataConversionWarning: A column-vector y was passed when a 1d array was expected. Please change the shape of y to (n_samples,), for example using ravel().\n",
      "  estimator.fit(X_train, y_train, **fit_params)\n",
      "D:\\99_file\\01_Anaconda\\envs\\py36\\lib\\site-packages\\sklearn\\model_selection\\_validation.py:515: DataConversionWarning: A column-vector y was passed when a 1d array was expected. Please change the shape of y to (n_samples,), for example using ravel().\n",
      "  estimator.fit(X_train, y_train, **fit_params)\n",
      "D:\\99_file\\01_Anaconda\\envs\\py36\\lib\\site-packages\\sklearn\\model_selection\\_validation.py:515: DataConversionWarning: A column-vector y was passed when a 1d array was expected. Please change the shape of y to (n_samples,), for example using ravel().\n",
      "  estimator.fit(X_train, y_train, **fit_params)\n",
      "D:\\99_file\\01_Anaconda\\envs\\py36\\lib\\site-packages\\sklearn\\model_selection\\_validation.py:515: DataConversionWarning: A column-vector y was passed when a 1d array was expected. Please change the shape of y to (n_samples,), for example using ravel().\n",
      "  estimator.fit(X_train, y_train, **fit_params)\n",
      "D:\\99_file\\01_Anaconda\\envs\\py36\\lib\\site-packages\\sklearn\\model_selection\\_validation.py:515: DataConversionWarning: A column-vector y was passed when a 1d array was expected. Please change the shape of y to (n_samples,), for example using ravel().\n",
      "  estimator.fit(X_train, y_train, **fit_params)\n",
      "D:\\99_file\\01_Anaconda\\envs\\py36\\lib\\site-packages\\sklearn\\model_selection\\_validation.py:515: DataConversionWarning: A column-vector y was passed when a 1d array was expected. Please change the shape of y to (n_samples,), for example using ravel().\n",
      "  estimator.fit(X_train, y_train, **fit_params)\n",
      "D:\\99_file\\01_Anaconda\\envs\\py36\\lib\\site-packages\\sklearn\\model_selection\\_validation.py:515: DataConversionWarning: A column-vector y was passed when a 1d array was expected. Please change the shape of y to (n_samples,), for example using ravel().\n",
      "  estimator.fit(X_train, y_train, **fit_params)\n",
      "D:\\99_file\\01_Anaconda\\envs\\py36\\lib\\site-packages\\sklearn\\model_selection\\_validation.py:515: DataConversionWarning: A column-vector y was passed when a 1d array was expected. Please change the shape of y to (n_samples,), for example using ravel().\n",
      "  estimator.fit(X_train, y_train, **fit_params)\n",
      "D:\\99_file\\01_Anaconda\\envs\\py36\\lib\\site-packages\\sklearn\\model_selection\\_validation.py:515: DataConversionWarning: A column-vector y was passed when a 1d array was expected. Please change the shape of y to (n_samples,), for example using ravel().\n",
      "  estimator.fit(X_train, y_train, **fit_params)\n",
      "D:\\99_file\\01_Anaconda\\envs\\py36\\lib\\site-packages\\sklearn\\model_selection\\_validation.py:515: DataConversionWarning: A column-vector y was passed when a 1d array was expected. Please change the shape of y to (n_samples,), for example using ravel().\n",
      "  estimator.fit(X_train, y_train, **fit_params)\n",
      "D:\\99_file\\01_Anaconda\\envs\\py36\\lib\\site-packages\\sklearn\\model_selection\\_validation.py:515: DataConversionWarning: A column-vector y was passed when a 1d array was expected. Please change the shape of y to (n_samples,), for example using ravel().\n",
      "  estimator.fit(X_train, y_train, **fit_params)\n",
      "D:\\99_file\\01_Anaconda\\envs\\py36\\lib\\site-packages\\sklearn\\model_selection\\_validation.py:515: DataConversionWarning: A column-vector y was passed when a 1d array was expected. Please change the shape of y to (n_samples,), for example using ravel().\n",
      "  estimator.fit(X_train, y_train, **fit_params)\n",
      "D:\\99_file\\01_Anaconda\\envs\\py36\\lib\\site-packages\\sklearn\\model_selection\\_validation.py:515: DataConversionWarning: A column-vector y was passed when a 1d array was expected. Please change the shape of y to (n_samples,), for example using ravel().\n",
      "  estimator.fit(X_train, y_train, **fit_params)\n",
      "D:\\99_file\\01_Anaconda\\envs\\py36\\lib\\site-packages\\sklearn\\model_selection\\_validation.py:515: DataConversionWarning: A column-vector y was passed when a 1d array was expected. Please change the shape of y to (n_samples,), for example using ravel().\n",
      "  estimator.fit(X_train, y_train, **fit_params)\n",
      "D:\\99_file\\01_Anaconda\\envs\\py36\\lib\\site-packages\\sklearn\\model_selection\\_validation.py:515: DataConversionWarning: A column-vector y was passed when a 1d array was expected. Please change the shape of y to (n_samples,), for example using ravel().\n",
      "  estimator.fit(X_train, y_train, **fit_params)\n",
      "D:\\99_file\\01_Anaconda\\envs\\py36\\lib\\site-packages\\sklearn\\model_selection\\_validation.py:515: DataConversionWarning: A column-vector y was passed when a 1d array was expected. Please change the shape of y to (n_samples,), for example using ravel().\n",
      "  estimator.fit(X_train, y_train, **fit_params)\n",
      "D:\\99_file\\01_Anaconda\\envs\\py36\\lib\\site-packages\\sklearn\\model_selection\\_validation.py:515: DataConversionWarning: A column-vector y was passed when a 1d array was expected. Please change the shape of y to (n_samples,), for example using ravel().\n",
      "  estimator.fit(X_train, y_train, **fit_params)\n",
      "D:\\99_file\\01_Anaconda\\envs\\py36\\lib\\site-packages\\sklearn\\model_selection\\_validation.py:515: DataConversionWarning: A column-vector y was passed when a 1d array was expected. Please change the shape of y to (n_samples,), for example using ravel().\n",
      "  estimator.fit(X_train, y_train, **fit_params)\n",
      "D:\\99_file\\01_Anaconda\\envs\\py36\\lib\\site-packages\\sklearn\\model_selection\\_validation.py:515: DataConversionWarning: A column-vector y was passed when a 1d array was expected. Please change the shape of y to (n_samples,), for example using ravel().\n",
      "  estimator.fit(X_train, y_train, **fit_params)\n",
      "D:\\99_file\\01_Anaconda\\envs\\py36\\lib\\site-packages\\sklearn\\model_selection\\_validation.py:515: DataConversionWarning: A column-vector y was passed when a 1d array was expected. Please change the shape of y to (n_samples,), for example using ravel().\n",
      "  estimator.fit(X_train, y_train, **fit_params)\n",
      "D:\\99_file\\01_Anaconda\\envs\\py36\\lib\\site-packages\\sklearn\\model_selection\\_validation.py:515: DataConversionWarning: A column-vector y was passed when a 1d array was expected. Please change the shape of y to (n_samples,), for example using ravel().\n",
      "  estimator.fit(X_train, y_train, **fit_params)\n",
      "D:\\99_file\\01_Anaconda\\envs\\py36\\lib\\site-packages\\sklearn\\model_selection\\_validation.py:515: DataConversionWarning: A column-vector y was passed when a 1d array was expected. Please change the shape of y to (n_samples,), for example using ravel().\n",
      "  estimator.fit(X_train, y_train, **fit_params)\n",
      "D:\\99_file\\01_Anaconda\\envs\\py36\\lib\\site-packages\\sklearn\\model_selection\\_validation.py:515: DataConversionWarning: A column-vector y was passed when a 1d array was expected. Please change the shape of y to (n_samples,), for example using ravel().\n",
      "  estimator.fit(X_train, y_train, **fit_params)\n",
      "D:\\99_file\\01_Anaconda\\envs\\py36\\lib\\site-packages\\sklearn\\model_selection\\_validation.py:515: DataConversionWarning: A column-vector y was passed when a 1d array was expected. Please change the shape of y to (n_samples,), for example using ravel().\n",
      "  estimator.fit(X_train, y_train, **fit_params)\n",
      "D:\\99_file\\01_Anaconda\\envs\\py36\\lib\\site-packages\\sklearn\\model_selection\\_validation.py:515: DataConversionWarning: A column-vector y was passed when a 1d array was expected. Please change the shape of y to (n_samples,), for example using ravel().\n",
      "  estimator.fit(X_train, y_train, **fit_params)\n",
      "D:\\99_file\\01_Anaconda\\envs\\py36\\lib\\site-packages\\sklearn\\model_selection\\_validation.py:515: DataConversionWarning: A column-vector y was passed when a 1d array was expected. Please change the shape of y to (n_samples,), for example using ravel().\n",
      "  estimator.fit(X_train, y_train, **fit_params)\n"
     ]
    },
    {
     "name": "stderr",
     "output_type": "stream",
     "text": [
      "D:\\99_file\\01_Anaconda\\envs\\py36\\lib\\site-packages\\sklearn\\model_selection\\_validation.py:515: DataConversionWarning: A column-vector y was passed when a 1d array was expected. Please change the shape of y to (n_samples,), for example using ravel().\n",
      "  estimator.fit(X_train, y_train, **fit_params)\n",
      "D:\\99_file\\01_Anaconda\\envs\\py36\\lib\\site-packages\\sklearn\\model_selection\\_validation.py:515: DataConversionWarning: A column-vector y was passed when a 1d array was expected. Please change the shape of y to (n_samples,), for example using ravel().\n",
      "  estimator.fit(X_train, y_train, **fit_params)\n",
      "D:\\99_file\\01_Anaconda\\envs\\py36\\lib\\site-packages\\sklearn\\model_selection\\_validation.py:515: DataConversionWarning: A column-vector y was passed when a 1d array was expected. Please change the shape of y to (n_samples,), for example using ravel().\n",
      "  estimator.fit(X_train, y_train, **fit_params)\n",
      "D:\\99_file\\01_Anaconda\\envs\\py36\\lib\\site-packages\\sklearn\\model_selection\\_validation.py:515: DataConversionWarning: A column-vector y was passed when a 1d array was expected. Please change the shape of y to (n_samples,), for example using ravel().\n",
      "  estimator.fit(X_train, y_train, **fit_params)\n",
      "D:\\99_file\\01_Anaconda\\envs\\py36\\lib\\site-packages\\sklearn\\model_selection\\_validation.py:515: DataConversionWarning: A column-vector y was passed when a 1d array was expected. Please change the shape of y to (n_samples,), for example using ravel().\n",
      "  estimator.fit(X_train, y_train, **fit_params)\n",
      "D:\\99_file\\01_Anaconda\\envs\\py36\\lib\\site-packages\\sklearn\\model_selection\\_validation.py:515: DataConversionWarning: A column-vector y was passed when a 1d array was expected. Please change the shape of y to (n_samples,), for example using ravel().\n",
      "  estimator.fit(X_train, y_train, **fit_params)\n",
      "D:\\99_file\\01_Anaconda\\envs\\py36\\lib\\site-packages\\sklearn\\model_selection\\_validation.py:515: DataConversionWarning: A column-vector y was passed when a 1d array was expected. Please change the shape of y to (n_samples,), for example using ravel().\n",
      "  estimator.fit(X_train, y_train, **fit_params)\n",
      "D:\\99_file\\01_Anaconda\\envs\\py36\\lib\\site-packages\\sklearn\\model_selection\\_validation.py:515: DataConversionWarning: A column-vector y was passed when a 1d array was expected. Please change the shape of y to (n_samples,), for example using ravel().\n",
      "  estimator.fit(X_train, y_train, **fit_params)\n",
      "D:\\99_file\\01_Anaconda\\envs\\py36\\lib\\site-packages\\sklearn\\model_selection\\_validation.py:515: DataConversionWarning: A column-vector y was passed when a 1d array was expected. Please change the shape of y to (n_samples,), for example using ravel().\n",
      "  estimator.fit(X_train, y_train, **fit_params)\n",
      "D:\\99_file\\01_Anaconda\\envs\\py36\\lib\\site-packages\\sklearn\\model_selection\\_validation.py:515: DataConversionWarning: A column-vector y was passed when a 1d array was expected. Please change the shape of y to (n_samples,), for example using ravel().\n",
      "  estimator.fit(X_train, y_train, **fit_params)\n",
      "D:\\99_file\\01_Anaconda\\envs\\py36\\lib\\site-packages\\sklearn\\model_selection\\_validation.py:515: DataConversionWarning: A column-vector y was passed when a 1d array was expected. Please change the shape of y to (n_samples,), for example using ravel().\n",
      "  estimator.fit(X_train, y_train, **fit_params)\n",
      "D:\\99_file\\01_Anaconda\\envs\\py36\\lib\\site-packages\\sklearn\\model_selection\\_validation.py:515: DataConversionWarning: A column-vector y was passed when a 1d array was expected. Please change the shape of y to (n_samples,), for example using ravel().\n",
      "  estimator.fit(X_train, y_train, **fit_params)\n",
      "D:\\99_file\\01_Anaconda\\envs\\py36\\lib\\site-packages\\sklearn\\model_selection\\_validation.py:515: DataConversionWarning: A column-vector y was passed when a 1d array was expected. Please change the shape of y to (n_samples,), for example using ravel().\n",
      "  estimator.fit(X_train, y_train, **fit_params)\n",
      "D:\\99_file\\01_Anaconda\\envs\\py36\\lib\\site-packages\\sklearn\\model_selection\\_validation.py:515: DataConversionWarning: A column-vector y was passed when a 1d array was expected. Please change the shape of y to (n_samples,), for example using ravel().\n",
      "  estimator.fit(X_train, y_train, **fit_params)\n",
      "D:\\99_file\\01_Anaconda\\envs\\py36\\lib\\site-packages\\sklearn\\model_selection\\_validation.py:515: DataConversionWarning: A column-vector y was passed when a 1d array was expected. Please change the shape of y to (n_samples,), for example using ravel().\n",
      "  estimator.fit(X_train, y_train, **fit_params)\n",
      "D:\\99_file\\01_Anaconda\\envs\\py36\\lib\\site-packages\\sklearn\\model_selection\\_validation.py:515: DataConversionWarning: A column-vector y was passed when a 1d array was expected. Please change the shape of y to (n_samples,), for example using ravel().\n",
      "  estimator.fit(X_train, y_train, **fit_params)\n",
      "D:\\99_file\\01_Anaconda\\envs\\py36\\lib\\site-packages\\sklearn\\model_selection\\_validation.py:515: DataConversionWarning: A column-vector y was passed when a 1d array was expected. Please change the shape of y to (n_samples,), for example using ravel().\n",
      "  estimator.fit(X_train, y_train, **fit_params)\n",
      "D:\\99_file\\01_Anaconda\\envs\\py36\\lib\\site-packages\\sklearn\\model_selection\\_validation.py:515: DataConversionWarning: A column-vector y was passed when a 1d array was expected. Please change the shape of y to (n_samples,), for example using ravel().\n",
      "  estimator.fit(X_train, y_train, **fit_params)\n",
      "D:\\99_file\\01_Anaconda\\envs\\py36\\lib\\site-packages\\sklearn\\model_selection\\_validation.py:515: DataConversionWarning: A column-vector y was passed when a 1d array was expected. Please change the shape of y to (n_samples,), for example using ravel().\n",
      "  estimator.fit(X_train, y_train, **fit_params)\n",
      "D:\\99_file\\01_Anaconda\\envs\\py36\\lib\\site-packages\\sklearn\\model_selection\\_validation.py:515: DataConversionWarning: A column-vector y was passed when a 1d array was expected. Please change the shape of y to (n_samples,), for example using ravel().\n",
      "  estimator.fit(X_train, y_train, **fit_params)\n",
      "D:\\99_file\\01_Anaconda\\envs\\py36\\lib\\site-packages\\sklearn\\model_selection\\_search.py:739: DataConversionWarning: A column-vector y was passed when a 1d array was expected. Please change the shape of y to (n_samples,), for example using ravel().\n",
      "  self.best_estimator_.fit(X, y, **fit_params)\n"
     ]
    },
    {
     "data": {
      "text/plain": [
       "GridSearchCV(cv=5, error_score=nan,\n",
       "             estimator=RandomForestClassifier(bootstrap=True, ccp_alpha=0.0,\n",
       "                                              class_weight=None,\n",
       "                                              criterion='gini', max_depth=None,\n",
       "                                              max_features='auto',\n",
       "                                              max_leaf_nodes=None,\n",
       "                                              max_samples=None,\n",
       "                                              min_impurity_decrease=0.0,\n",
       "                                              min_impurity_split=None,\n",
       "                                              min_samples_leaf=1,\n",
       "                                              min_samples_split=2,\n",
       "                                              min_weight_fraction_leaf=0.0,\n",
       "                                              n_estimators=100, n_jobs=None,\n",
       "                                              oob_score=False, random_state=42,\n",
       "                                              verbose=0, warm_start=False),\n",
       "             iid='deprecated', n_jobs=None,\n",
       "             param_grid={'criterion': ['gini', 'entropy'],\n",
       "                         'max_depth': [4, 5, 6, 7, 8],\n",
       "                         'max_features': ['auto', 'sqrt', 'log2'],\n",
       "                         'n_estimators': [200, 500]},\n",
       "             pre_dispatch='2*n_jobs', refit=True, return_train_score=False,\n",
       "             scoring=None, verbose=0)"
      ]
     },
     "execution_count": 7,
     "metadata": {},
     "output_type": "execute_result"
    }
   ],
   "source": [
    "CV_rfc = GridSearchCV(estimator=rfc, param_grid=param_grid, cv= 5)\n",
    "CV_rfc.fit(X_train, y_train)"
   ]
  },
  {
   "cell_type": "code",
   "execution_count": 8,
   "metadata": {},
   "outputs": [
    {
     "data": {
      "text/plain": [
       "{'criterion': 'gini',\n",
       " 'max_depth': 4,\n",
       " 'max_features': 'auto',\n",
       " 'n_estimators': 200}"
      ]
     },
     "execution_count": 8,
     "metadata": {},
     "output_type": "execute_result"
    }
   ],
   "source": [
    "CV_rfc.best_params_"
   ]
  },
  {
   "cell_type": "code",
   "execution_count": 9,
   "metadata": {},
   "outputs": [
    {
     "data": {
      "text/plain": [
       "0.9333333333333333"
      ]
     },
     "execution_count": 9,
     "metadata": {},
     "output_type": "execute_result"
    }
   ],
   "source": [
    "CV_rfc.score(X_test, y_test) "
   ]
  },
  {
   "cell_type": "markdown",
   "metadata": {},
   "source": [
    "## 2. BayesianOptimization\n",
    "- https://github.com/fmfn/BayesianOptimization"
   ]
  },
  {
   "cell_type": "code",
   "execution_count": 10,
   "metadata": {},
   "outputs": [],
   "source": [
    "import xgboost as xgb\n",
    "from bayes_opt import BayesianOptimization\n",
    "from sklearn.metrics import mean_squared_error"
   ]
  },
  {
   "cell_type": "code",
   "execution_count": 11,
   "metadata": {},
   "outputs": [],
   "source": [
    "dtrain = xgb.DMatrix(X_train, label=y_train)\n",
    "dtest = xgb.DMatrix(X_test)"
   ]
  },
  {
   "cell_type": "code",
   "execution_count": 12,
   "metadata": {},
   "outputs": [],
   "source": [
    "def xgb_evaluate(max_depth, gamma, colsample_bytree):\n",
    "    params = {'eval_metric': 'rmse',\n",
    "              'max_depth': int(max_depth),\n",
    "              'subsample': 0.8,\n",
    "              'eta': 0.1,\n",
    "              'gamma': gamma,\n",
    "              'colsample_bytree': colsample_bytree}\n",
    "    # Used around 1000 boosting rounds in the full model\n",
    "    cv_result = xgb.cv(params, dtrain, num_boost_round=100, nfold=3)    \n",
    "    \n",
    "    # Bayesian optimization only knows how to maximize, not minimize, so return the negative RMSE\n",
    "    return -1.0 * cv_result['test-rmse-mean'].iloc[-1]"
   ]
  },
  {
   "cell_type": "code",
   "execution_count": 13,
   "metadata": {},
   "outputs": [],
   "source": [
    "xgb_bo = BayesianOptimization(xgb_evaluate, {'max_depth': (3, 7), \n",
    "                                             'gamma': (0, 1),\n",
    "                                             'colsample_bytree': (0.3, 0.9)})"
   ]
  },
  {
   "cell_type": "code",
   "execution_count": 14,
   "metadata": {},
   "outputs": [
    {
     "name": "stdout",
     "output_type": "stream",
     "text": [
      "|   iter    |  target   | colsam... |   gamma   | max_depth |\n",
      "-------------------------------------------------------------\n",
      "| \u001b[0m 1       \u001b[0m | \u001b[0m-0.2665  \u001b[0m | \u001b[0m 0.4653  \u001b[0m | \u001b[0m 0.6916  \u001b[0m | \u001b[0m 6.623   \u001b[0m |\n",
      "| \u001b[95m 2       \u001b[0m | \u001b[95m-0.2242  \u001b[0m | \u001b[95m 0.6813  \u001b[0m | \u001b[95m 0.7071  \u001b[0m | \u001b[95m 4.567   \u001b[0m |\n",
      "| \u001b[95m 3       \u001b[0m | \u001b[95m-0.219   \u001b[0m | \u001b[95m 0.7127  \u001b[0m | \u001b[95m 0.3849  \u001b[0m | \u001b[95m 4.156   \u001b[0m |\n",
      "| \u001b[0m 4       \u001b[0m | \u001b[0m-0.2278  \u001b[0m | \u001b[0m 0.6519  \u001b[0m | \u001b[0m 0.7824  \u001b[0m | \u001b[0m 5.939   \u001b[0m |\n",
      "| \u001b[0m 5       \u001b[0m | \u001b[0m-0.2703  \u001b[0m | \u001b[0m 0.3388  \u001b[0m | \u001b[0m 0.9893  \u001b[0m | \u001b[0m 4.73    \u001b[0m |\n",
      "| \u001b[0m 6       \u001b[0m | \u001b[0m-0.223   \u001b[0m | \u001b[0m 0.8771  \u001b[0m | \u001b[0m 0.7736  \u001b[0m | \u001b[0m 5.326   \u001b[0m |\n",
      "| \u001b[95m 7       \u001b[0m | \u001b[95m-0.2126  \u001b[0m | \u001b[95m 0.8167  \u001b[0m | \u001b[95m 0.08845 \u001b[0m | \u001b[95m 5.588   \u001b[0m |\n",
      "| \u001b[0m 8       \u001b[0m | \u001b[0m-0.2215  \u001b[0m | \u001b[0m 0.7011  \u001b[0m | \u001b[0m 0.5599  \u001b[0m | \u001b[0m 4.551   \u001b[0m |\n",
      "| \u001b[0m 9       \u001b[0m | \u001b[0m-0.3055  \u001b[0m | \u001b[0m 0.4322  \u001b[0m | \u001b[0m 0.02691 \u001b[0m | \u001b[0m 5.443   \u001b[0m |\n",
      "| \u001b[0m 10      \u001b[0m | \u001b[0m-0.2679  \u001b[0m | \u001b[0m 0.3213  \u001b[0m | \u001b[0m 0.8378  \u001b[0m | \u001b[0m 4.501   \u001b[0m |\n",
      "| \u001b[0m 11      \u001b[0m | \u001b[0m-0.2287  \u001b[0m | \u001b[0m 0.9     \u001b[0m | \u001b[0m 1.0     \u001b[0m | \u001b[0m 3.0     \u001b[0m |\n",
      "| \u001b[0m 12      \u001b[0m | \u001b[0m-0.2199  \u001b[0m | \u001b[0m 0.9     \u001b[0m | \u001b[0m 0.0     \u001b[0m | \u001b[0m 7.0     \u001b[0m |\n",
      "| \u001b[0m 13      \u001b[0m | \u001b[0m-0.2287  \u001b[0m | \u001b[0m 0.9     \u001b[0m | \u001b[0m 1.0     \u001b[0m | \u001b[0m 7.0     \u001b[0m |\n",
      "| \u001b[0m 14      \u001b[0m | \u001b[0m-0.2229  \u001b[0m | \u001b[0m 0.9     \u001b[0m | \u001b[0m 0.0     \u001b[0m | \u001b[0m 3.0     \u001b[0m |\n",
      "| \u001b[95m 15      \u001b[0m | \u001b[95m-0.2081  \u001b[0m | \u001b[95m 0.8989  \u001b[0m | \u001b[95m 0.2506  \u001b[0m | \u001b[95m 6.236   \u001b[0m |\n",
      "| \u001b[0m 16      \u001b[0m | \u001b[0m-0.2694  \u001b[0m | \u001b[0m 0.3     \u001b[0m | \u001b[0m 1.0     \u001b[0m | \u001b[0m 3.0     \u001b[0m |\n",
      "| \u001b[0m 17      \u001b[0m | \u001b[0m-0.2212  \u001b[0m | \u001b[0m 0.8898  \u001b[0m | \u001b[0m 0.0113  \u001b[0m | \u001b[0m 4.67    \u001b[0m |\n",
      "| \u001b[0m 18      \u001b[0m | \u001b[0m-0.2222  \u001b[0m | \u001b[0m 0.9     \u001b[0m | \u001b[0m 0.7362  \u001b[0m | \u001b[0m 3.711   \u001b[0m |\n",
      "| \u001b[0m 19      \u001b[0m | \u001b[0m-0.2288  \u001b[0m | \u001b[0m 0.8908  \u001b[0m | \u001b[0m 0.9826  \u001b[0m | \u001b[0m 6.352   \u001b[0m |\n",
      "| \u001b[0m 20      \u001b[0m | \u001b[0m-0.2109  \u001b[0m | \u001b[0m 0.8945  \u001b[0m | \u001b[0m 0.3938  \u001b[0m | \u001b[0m 3.006   \u001b[0m |\n",
      "=============================================================\n",
      "Wall time: 9.82 s\n"
     ]
    }
   ],
   "source": [
    "%%time\n",
    "xgb_bo.maximize(init_points=10, n_iter=10)"
   ]
  },
  {
   "cell_type": "code",
   "execution_count": 15,
   "metadata": {},
   "outputs": [
    {
     "name": "stdout",
     "output_type": "stream",
     "text": [
      "Iteration 0 : \n",
      "\t{'target': -0.2664703333333333, 'params': {'colsample_bytree': 0.4652630038351472, 'gamma': 0.6915984721247734, 'max_depth': 6.622871996589083}}\n",
      "Iteration 1 : \n",
      "\t{'target': -0.22416966666666668, 'params': {'colsample_bytree': 0.6812883999553848, 'gamma': 0.7070585372670509, 'max_depth': 4.567042889748121}}\n",
      "Iteration 2 : \n",
      "\t{'target': -0.21895333333333333, 'params': {'colsample_bytree': 0.7127383852242367, 'gamma': 0.38489224692794965, 'max_depth': 4.156333782339599}}\n",
      "Iteration 3 : \n",
      "\t{'target': -0.227826, 'params': {'colsample_bytree': 0.6519153427124744, 'gamma': 0.782437316581972, 'max_depth': 5.939465936426404}}\n",
      "Iteration 4 : \n",
      "\t{'target': -0.27027666666666667, 'params': {'colsample_bytree': 0.3387999345534314, 'gamma': 0.9893104054927082, 'max_depth': 4.730172152962005}}\n",
      "Iteration 5 : \n",
      "\t{'target': -0.22299733333333335, 'params': {'colsample_bytree': 0.8771082923270748, 'gamma': 0.7736099187189502, 'max_depth': 5.325523757859753}}\n",
      "Iteration 6 : \n",
      "\t{'target': -0.21261700000000003, 'params': {'colsample_bytree': 0.8166823890933534, 'gamma': 0.08845440605080956, 'max_depth': 5.587559278489611}}\n",
      "Iteration 7 : \n",
      "\t{'target': -0.22145700000000001, 'params': {'colsample_bytree': 0.701113671112997, 'gamma': 0.5599477773635688, 'max_depth': 4.550532839565971}}\n",
      "Iteration 8 : \n",
      "\t{'target': -0.30553766666666665, 'params': {'colsample_bytree': 0.43224882821163096, 'gamma': 0.026909612745875222, 'max_depth': 5.44303579043498}}\n",
      "Iteration 9 : \n",
      "\t{'target': -0.267921, 'params': {'colsample_bytree': 0.3213314197873991, 'gamma': 0.8377603601597391, 'max_depth': 4.500770366650682}}\n",
      "Iteration 10 : \n",
      "\t{'target': -0.22874966666666666, 'params': {'colsample_bytree': 0.9, 'gamma': 1.0, 'max_depth': 3.0}}\n",
      "Iteration 11 : \n",
      "\t{'target': -0.21989933333333334, 'params': {'colsample_bytree': 0.9, 'gamma': 0.0, 'max_depth': 7.0}}\n",
      "Iteration 12 : \n",
      "\t{'target': -0.22874966666666666, 'params': {'colsample_bytree': 0.9, 'gamma': 1.0, 'max_depth': 7.0}}\n",
      "Iteration 13 : \n",
      "\t{'target': -0.22294433333333333, 'params': {'colsample_bytree': 0.9, 'gamma': 0.0, 'max_depth': 3.0}}\n",
      "Iteration 14 : \n",
      "\t{'target': -0.20814500000000002, 'params': {'colsample_bytree': 0.8989417095247743, 'gamma': 0.25061284143948426, 'max_depth': 6.236125128028668}}\n",
      "Iteration 15 : \n",
      "\t{'target': -0.269368, 'params': {'colsample_bytree': 0.3, 'gamma': 1.0, 'max_depth': 3.0}}\n",
      "Iteration 16 : \n",
      "\t{'target': -0.22122066666666665, 'params': {'colsample_bytree': 0.8897594555787116, 'gamma': 0.011304593304001131, 'max_depth': 4.670474367852908}}\n",
      "Iteration 17 : \n",
      "\t{'target': -0.22218766666666667, 'params': {'colsample_bytree': 0.9, 'gamma': 0.7361643823047935, 'max_depth': 3.7108285585758805}}\n",
      "Iteration 18 : \n",
      "\t{'target': -0.2287543333333333, 'params': {'colsample_bytree': 0.890799192588414, 'gamma': 0.982577267535125, 'max_depth': 6.352328513559728}}\n",
      "Iteration 19 : \n",
      "\t{'target': -0.2108553333333333, 'params': {'colsample_bytree': 0.8945220356521755, 'gamma': 0.39379583274379604, 'max_depth': 3.00553004224422}}\n"
     ]
    }
   ],
   "source": [
    "for i, res in enumerate(xgb_bo.res):\n",
    "    print('Iteration {} : \\n\\t{}'.format(i,res))"
   ]
  },
  {
   "cell_type": "code",
   "execution_count": 16,
   "metadata": {},
   "outputs": [
    {
     "name": "stdout",
     "output_type": "stream",
     "text": [
      "Final result :  {'target': -0.20814500000000002, 'params': {'colsample_bytree': 0.8989417095247743, 'gamma': 0.25061284143948426, 'max_depth': 6.236125128028668}}\n"
     ]
    }
   ],
   "source": [
    "print(\"Final result : \", xgb_bo.max)"
   ]
  },
  {
   "cell_type": "code",
   "execution_count": 17,
   "metadata": {},
   "outputs": [
    {
     "name": "stdout",
     "output_type": "stream",
     "text": [
      "[14:37:56] WARNING: C:\\Users\\Administrator\\workspace\\xgboost-win64_release_1.0.0\\src\\learner.cc:328: \n",
      "Parameters: { params, target } might not be used.\n",
      "\n",
      "  This may not be accurate due to some parameters are only used in language bindings but\n",
      "  passed down to XGBoost core.  Or some parameters are not used but slip through this\n",
      "  verification. Please open an issue if you find above cases.\n",
      "\n",
      "\n"
     ]
    }
   ],
   "source": [
    "xgb2 = xgb.train(xgb_bo.max, dtrain , 100)\n",
    "#lgb2 = lgb.train(params, d_train, 100)\n",
    "xgb_prob = xgb2.predict( dtest )"
   ]
  },
  {
   "cell_type": "code",
   "execution_count": 18,
   "metadata": {},
   "outputs": [],
   "source": [
    "from sklearn.metrics import mean_squared_error\n",
    "\n",
    "opt_xgb_result = np.sqrt(mean_squared_error(y_test, xgb_prob))"
   ]
  },
  {
   "cell_type": "code",
   "execution_count": 19,
   "metadata": {},
   "outputs": [
    {
     "name": "stdout",
     "output_type": "stream",
     "text": [
      "[14:37:56] WARNING: C:\\Users\\Administrator\\workspace\\xgboost-win64_release_1.0.0\\src\\learner.cc:328: \n",
      "Parameters: { params, target } might not be used.\n",
      "\n",
      "  This may not be accurate due to some parameters are only used in language bindings but\n",
      "  passed down to XGBoost core.  Or some parameters are not used but slip through this\n",
      "  verification. Please open an issue if you find above cases.\n",
      "\n",
      "\n"
     ]
    },
    {
     "data": {
      "image/png": "[encoded data removed]",
      "text/plain": [
       "<Figure size 360x360 with 1 Axes>"
      ]
     },
     "metadata": {
      "needs_background": "light"
     },
     "output_type": "display_data"
    }
   ],
   "source": [
    "from xgboost import plot_importance\n",
    "xgb2 = xgb.train(xgb_bo.max, dtrain , 100)\n",
    "#lgb2 = lgb.train(params, d_train, 100)\n",
    "xgb_prob = xgb2.predict( dtest )\n",
    "\n",
    "from sklearn.metrics import mean_squared_error\n",
    "\n",
    "np.sqrt(mean_squared_error(y_test, xgb_prob))\n",
    "\n",
    "import matplotlib.pyplot as plt\n",
    "fix,ax = plt.subplots(figsize = (5,5))\n",
    "plot_importance(xgb2, ax = ax)\n",
    "plt.show()"
   ]
  },
  {
   "cell_type": "markdown",
   "metadata": {},
   "source": [
    "# 3. Optuna\n",
    "- https://github.com/optuna/optuna\n",
    "- https://github.com/optuna/optuna/blob/master/examples/pruning/lightgbm_integration.py"
   ]
  },
  {
   "cell_type": "code",
   "execution_count": 21,
   "metadata": {},
   "outputs": [],
   "source": [
    "import optuna\n",
    "import sklearn"
   ]
  },
  {
   "cell_type": "code",
   "execution_count": 22,
   "metadata": {},
   "outputs": [
    {
     "data": {
      "text/plain": [
       "'1.2.0'"
      ]
     },
     "execution_count": 22,
     "metadata": {},
     "output_type": "execute_result"
    }
   ],
   "source": [
    "optuna.__version__"
   ]
  },
  {
   "cell_type": "code",
   "execution_count": 23,
   "metadata": {},
   "outputs": [
    {
     "name": "stderr",
     "output_type": "stream",
     "text": [
      "[I 2020-03-05 14:45:25,123] Finished trial#0 resulted in value: 0.9533333333333333. Current best value is 0.9533333333333333 with parameters: {'n_estimators': 19, 'max_depth': 1.9936567619392978}.\n",
      "[I 2020-03-05 14:45:25,770] Finished trial#1 resulted in value: 0.86. Current best value is 0.9533333333333333 with parameters: {'n_estimators': 19, 'max_depth': 1.9936567619392978}.\n",
      "[I 2020-03-05 14:45:26,373] Finished trial#2 resulted in value: 0.9533333333333333. Current best value is 0.9533333333333333 with parameters: {'n_estimators': 19, 'max_depth': 1.9936567619392978}.\n",
      "[I 2020-03-05 14:45:26,825] Finished trial#3 resulted in value: 0.96. Current best value is 0.96 with parameters: {'n_estimators': 15, 'max_depth': 15.697348531924083}.\n",
      "[I 2020-03-05 14:45:27,366] Finished trial#4 resulted in value: 0.9666666666666667. Current best value is 0.9666666666666667 with parameters: {'n_estimators': 11, 'max_depth': 31.367413796613118}.\n",
      "[I 2020-03-05 14:45:27,751] Finished trial#5 resulted in value: 0.9733333333333333. Current best value is 0.9733333333333333 with parameters: {'n_estimators': 14, 'max_depth': 10.47219568632431}.\n",
      "[I 2020-03-05 14:45:27,823] Finished trial#6 resulted in value: 0.9666666666666667. Current best value is 0.9733333333333333 with parameters: {'n_estimators': 14, 'max_depth': 10.47219568632431}.\n",
      "[I 2020-03-05 14:45:27,904] Finished trial#7 resulted in value: 0.9466666666666667. Current best value is 0.9733333333333333 with parameters: {'n_estimators': 14, 'max_depth': 10.47219568632431}.\n",
      "[I 2020-03-05 14:45:27,988] Finished trial#8 resulted in value: 0.96. Current best value is 0.9733333333333333 with parameters: {'n_estimators': 14, 'max_depth': 10.47219568632431}.\n",
      "[I 2020-03-05 14:45:28,067] Finished trial#9 resulted in value: 0.96. Current best value is 0.9733333333333333 with parameters: {'n_estimators': 14, 'max_depth': 10.47219568632431}.\n",
      "[I 2020-03-05 14:45:28,243] Finished trial#10 resulted in value: 0.9666666666666667. Current best value is 0.9733333333333333 with parameters: {'n_estimators': 14, 'max_depth': 10.47219568632431}.\n",
      "[I 2020-03-05 14:45:28,319] Finished trial#11 resulted in value: 0.94. Current best value is 0.9733333333333333 with parameters: {'n_estimators': 14, 'max_depth': 10.47219568632431}.\n",
      "[I 2020-03-05 14:45:28,384] Finished trial#12 resulted in value: 0.9466666666666667. Current best value is 0.9733333333333333 with parameters: {'n_estimators': 14, 'max_depth': 10.47219568632431}.\n",
      "[I 2020-03-05 14:45:28,458] Finished trial#13 resulted in value: 0.96. Current best value is 0.9733333333333333 with parameters: {'n_estimators': 14, 'max_depth': 10.47219568632431}.\n",
      "[I 2020-03-05 14:45:28,539] Finished trial#14 resulted in value: 0.9466666666666667. Current best value is 0.9733333333333333 with parameters: {'n_estimators': 14, 'max_depth': 10.47219568632431}.\n",
      "[I 2020-03-05 14:45:28,617] Finished trial#15 resulted in value: 0.9533333333333333. Current best value is 0.9733333333333333 with parameters: {'n_estimators': 14, 'max_depth': 10.47219568632431}.\n",
      "[I 2020-03-05 14:45:28,701] Finished trial#16 resulted in value: 0.96. Current best value is 0.9733333333333333 with parameters: {'n_estimators': 14, 'max_depth': 10.47219568632431}.\n",
      "[I 2020-03-05 14:45:28,775] Finished trial#17 resulted in value: 0.96. Current best value is 0.9733333333333333 with parameters: {'n_estimators': 14, 'max_depth': 10.47219568632431}.\n",
      "[I 2020-03-05 14:45:28,846] Finished trial#18 resulted in value: 0.96. Current best value is 0.9733333333333333 with parameters: {'n_estimators': 14, 'max_depth': 10.47219568632431}.\n",
      "[I 2020-03-05 14:45:28,922] Finished trial#19 resulted in value: 0.9533333333333333. Current best value is 0.9733333333333333 with parameters: {'n_estimators': 14, 'max_depth': 10.47219568632431}.\n",
      "[I 2020-03-05 14:45:29,005] Finished trial#20 resulted in value: 0.9466666666666667. Current best value is 0.9733333333333333 with parameters: {'n_estimators': 14, 'max_depth': 10.47219568632431}.\n",
      "[I 2020-03-05 14:45:29,084] Finished trial#21 resulted in value: 0.96. Current best value is 0.9733333333333333 with parameters: {'n_estimators': 14, 'max_depth': 10.47219568632431}.\n",
      "[I 2020-03-05 14:45:29,162] Finished trial#22 resulted in value: 0.96. Current best value is 0.9733333333333333 with parameters: {'n_estimators': 14, 'max_depth': 10.47219568632431}.\n",
      "[I 2020-03-05 14:45:29,239] Finished trial#23 resulted in value: 0.96. Current best value is 0.9733333333333333 with parameters: {'n_estimators': 14, 'max_depth': 10.47219568632431}.\n",
      "[I 2020-03-05 14:45:29,317] Finished trial#24 resulted in value: 0.9533333333333333. Current best value is 0.9733333333333333 with parameters: {'n_estimators': 14, 'max_depth': 10.47219568632431}.\n",
      "[I 2020-03-05 14:45:29,395] Finished trial#25 resulted in value: 0.9666666666666667. Current best value is 0.9733333333333333 with parameters: {'n_estimators': 14, 'max_depth': 10.47219568632431}.\n",
      "[I 2020-03-05 14:45:29,471] Finished trial#26 resulted in value: 0.96. Current best value is 0.9733333333333333 with parameters: {'n_estimators': 14, 'max_depth': 10.47219568632431}.\n",
      "[I 2020-03-05 14:45:29,549] Finished trial#27 resulted in value: 0.96. Current best value is 0.9733333333333333 with parameters: {'n_estimators': 14, 'max_depth': 10.47219568632431}.\n",
      "[I 2020-03-05 14:45:29,625] Finished trial#28 resulted in value: 0.9666666666666667. Current best value is 0.9733333333333333 with parameters: {'n_estimators': 14, 'max_depth': 10.47219568632431}.\n",
      "[I 2020-03-05 14:45:29,701] Finished trial#29 resulted in value: 0.9666666666666667. Current best value is 0.9733333333333333 with parameters: {'n_estimators': 14, 'max_depth': 10.47219568632431}.\n",
      "[I 2020-03-05 14:45:29,780] Finished trial#30 resulted in value: 0.9533333333333333. Current best value is 0.9733333333333333 with parameters: {'n_estimators': 14, 'max_depth': 10.47219568632431}.\n",
      "[I 2020-03-05 14:45:29,855] Finished trial#31 resulted in value: 0.9466666666666667. Current best value is 0.9733333333333333 with parameters: {'n_estimators': 14, 'max_depth': 10.47219568632431}.\n",
      "[I 2020-03-05 14:45:29,932] Finished trial#32 resulted in value: 0.9466666666666667. Current best value is 0.9733333333333333 with parameters: {'n_estimators': 14, 'max_depth': 10.47219568632431}.\n",
      "[I 2020-03-05 14:45:30,006] Finished trial#33 resulted in value: 0.9666666666666667. Current best value is 0.9733333333333333 with parameters: {'n_estimators': 14, 'max_depth': 10.47219568632431}.\n",
      "[I 2020-03-05 14:45:30,084] Finished trial#34 resulted in value: 0.9533333333333333. Current best value is 0.9733333333333333 with parameters: {'n_estimators': 14, 'max_depth': 10.47219568632431}.\n",
      "[I 2020-03-05 14:45:30,155] Finished trial#35 resulted in value: 0.96. Current best value is 0.9733333333333333 with parameters: {'n_estimators': 14, 'max_depth': 10.47219568632431}.\n",
      "[I 2020-03-05 14:45:30,232] Finished trial#36 resulted in value: 0.9733333333333333. Current best value is 0.9733333333333333 with parameters: {'n_estimators': 14, 'max_depth': 10.47219568632431}.\n",
      "[I 2020-03-05 14:45:30,317] Finished trial#37 resulted in value: 0.9466666666666667. Current best value is 0.9733333333333333 with parameters: {'n_estimators': 14, 'max_depth': 10.47219568632431}.\n",
      "[I 2020-03-05 14:45:30,401] Finished trial#38 resulted in value: 0.9533333333333333. Current best value is 0.9733333333333333 with parameters: {'n_estimators': 14, 'max_depth': 10.47219568632431}.\n",
      "[I 2020-03-05 14:45:30,493] Finished trial#39 resulted in value: 0.9533333333333333. Current best value is 0.9733333333333333 with parameters: {'n_estimators': 14, 'max_depth': 10.47219568632431}.\n",
      "[I 2020-03-05 14:45:30,584] Finished trial#40 resulted in value: 0.96. Current best value is 0.9733333333333333 with parameters: {'n_estimators': 14, 'max_depth': 10.47219568632431}.\n",
      "[I 2020-03-05 14:45:30,666] Finished trial#41 resulted in value: 0.96. Current best value is 0.9733333333333333 with parameters: {'n_estimators': 14, 'max_depth': 10.47219568632431}.\n"
     ]
    },
    {
     "name": "stderr",
     "output_type": "stream",
     "text": [
      "[I 2020-03-05 14:45:30,745] Finished trial#42 resulted in value: 0.96. Current best value is 0.9733333333333333 with parameters: {'n_estimators': 14, 'max_depth': 10.47219568632431}.\n",
      "[I 2020-03-05 14:45:30,827] Finished trial#43 resulted in value: 0.9533333333333333. Current best value is 0.9733333333333333 with parameters: {'n_estimators': 14, 'max_depth': 10.47219568632431}.\n",
      "[I 2020-03-05 14:45:30,906] Finished trial#44 resulted in value: 0.7466666666666667. Current best value is 0.9733333333333333 with parameters: {'n_estimators': 14, 'max_depth': 10.47219568632431}.\n",
      "[I 2020-03-05 14:45:30,982] Finished trial#45 resulted in value: 0.96. Current best value is 0.9733333333333333 with parameters: {'n_estimators': 14, 'max_depth': 10.47219568632431}.\n",
      "[I 2020-03-05 14:45:31,064] Finished trial#46 resulted in value: 0.9666666666666667. Current best value is 0.9733333333333333 with parameters: {'n_estimators': 14, 'max_depth': 10.47219568632431}.\n",
      "[I 2020-03-05 14:45:31,144] Finished trial#47 resulted in value: 0.9533333333333333. Current best value is 0.9733333333333333 with parameters: {'n_estimators': 14, 'max_depth': 10.47219568632431}.\n",
      "[I 2020-03-05 14:45:31,223] Finished trial#48 resulted in value: 0.9666666666666667. Current best value is 0.9733333333333333 with parameters: {'n_estimators': 14, 'max_depth': 10.47219568632431}.\n",
      "[I 2020-03-05 14:45:31,305] Finished trial#49 resulted in value: 0.9466666666666667. Current best value is 0.9733333333333333 with parameters: {'n_estimators': 14, 'max_depth': 10.47219568632431}.\n",
      "[I 2020-03-05 14:45:31,381] Finished trial#50 resulted in value: 0.9533333333333333. Current best value is 0.9733333333333333 with parameters: {'n_estimators': 14, 'max_depth': 10.47219568632431}.\n",
      "[I 2020-03-05 14:45:31,458] Finished trial#51 resulted in value: 0.9666666666666667. Current best value is 0.9733333333333333 with parameters: {'n_estimators': 14, 'max_depth': 10.47219568632431}.\n",
      "[I 2020-03-05 14:45:31,532] Finished trial#52 resulted in value: 0.9533333333333333. Current best value is 0.9733333333333333 with parameters: {'n_estimators': 14, 'max_depth': 10.47219568632431}.\n",
      "[I 2020-03-05 14:45:31,611] Finished trial#53 resulted in value: 0.9533333333333333. Current best value is 0.9733333333333333 with parameters: {'n_estimators': 14, 'max_depth': 10.47219568632431}.\n",
      "[I 2020-03-05 14:45:31,692] Finished trial#54 resulted in value: 0.96. Current best value is 0.9733333333333333 with parameters: {'n_estimators': 14, 'max_depth': 10.47219568632431}.\n",
      "[I 2020-03-05 14:45:31,771] Finished trial#55 resulted in value: 0.9533333333333333. Current best value is 0.9733333333333333 with parameters: {'n_estimators': 14, 'max_depth': 10.47219568632431}.\n",
      "[I 2020-03-05 14:45:31,851] Finished trial#56 resulted in value: 0.9666666666666667. Current best value is 0.9733333333333333 with parameters: {'n_estimators': 14, 'max_depth': 10.47219568632431}.\n",
      "[I 2020-03-05 14:45:31,929] Finished trial#57 resulted in value: 0.9466666666666667. Current best value is 0.9733333333333333 with parameters: {'n_estimators': 14, 'max_depth': 10.47219568632431}.\n",
      "[I 2020-03-05 14:45:32,007] Finished trial#58 resulted in value: 0.96. Current best value is 0.9733333333333333 with parameters: {'n_estimators': 14, 'max_depth': 10.47219568632431}.\n",
      "[I 2020-03-05 14:45:32,087] Finished trial#59 resulted in value: 0.8466666666666667. Current best value is 0.9733333333333333 with parameters: {'n_estimators': 14, 'max_depth': 10.47219568632431}.\n",
      "[I 2020-03-05 14:45:32,165] Finished trial#60 resulted in value: 0.9666666666666667. Current best value is 0.9733333333333333 with parameters: {'n_estimators': 14, 'max_depth': 10.47219568632431}.\n",
      "[I 2020-03-05 14:45:32,243] Finished trial#61 resulted in value: 0.96. Current best value is 0.9733333333333333 with parameters: {'n_estimators': 14, 'max_depth': 10.47219568632431}.\n",
      "[I 2020-03-05 14:45:32,316] Finished trial#62 resulted in value: 0.96. Current best value is 0.9733333333333333 with parameters: {'n_estimators': 14, 'max_depth': 10.47219568632431}.\n",
      "[I 2020-03-05 14:45:32,393] Finished trial#63 resulted in value: 0.96. Current best value is 0.9733333333333333 with parameters: {'n_estimators': 14, 'max_depth': 10.47219568632431}.\n",
      "[I 2020-03-05 14:45:32,474] Finished trial#64 resulted in value: 0.96. Current best value is 0.9733333333333333 with parameters: {'n_estimators': 14, 'max_depth': 10.47219568632431}.\n",
      "[I 2020-03-05 14:45:32,549] Finished trial#65 resulted in value: 0.9666666666666667. Current best value is 0.9733333333333333 with parameters: {'n_estimators': 14, 'max_depth': 10.47219568632431}.\n",
      "[I 2020-03-05 14:45:32,622] Finished trial#66 resulted in value: 0.96. Current best value is 0.9733333333333333 with parameters: {'n_estimators': 14, 'max_depth': 10.47219568632431}.\n",
      "[I 2020-03-05 14:45:32,699] Finished trial#67 resulted in value: 0.96. Current best value is 0.9733333333333333 with parameters: {'n_estimators': 14, 'max_depth': 10.47219568632431}.\n",
      "[I 2020-03-05 14:45:32,778] Finished trial#68 resulted in value: 0.9466666666666667. Current best value is 0.9733333333333333 with parameters: {'n_estimators': 14, 'max_depth': 10.47219568632431}.\n",
      "[I 2020-03-05 14:45:32,868] Finished trial#69 resulted in value: 0.96. Current best value is 0.9733333333333333 with parameters: {'n_estimators': 14, 'max_depth': 10.47219568632431}.\n",
      "[I 2020-03-05 14:45:32,962] Finished trial#70 resulted in value: 0.96. Current best value is 0.9733333333333333 with parameters: {'n_estimators': 14, 'max_depth': 10.47219568632431}.\n",
      "[I 2020-03-05 14:45:33,056] Finished trial#71 resulted in value: 0.9533333333333333. Current best value is 0.9733333333333333 with parameters: {'n_estimators': 14, 'max_depth': 10.47219568632431}.\n",
      "[I 2020-03-05 14:45:33,141] Finished trial#72 resulted in value: 0.96. Current best value is 0.9733333333333333 with parameters: {'n_estimators': 14, 'max_depth': 10.47219568632431}.\n",
      "[I 2020-03-05 14:45:33,223] Finished trial#73 resulted in value: 0.96. Current best value is 0.9733333333333333 with parameters: {'n_estimators': 14, 'max_depth': 10.47219568632431}.\n",
      "[I 2020-03-05 14:45:33,298] Finished trial#74 resulted in value: 0.9533333333333333. Current best value is 0.9733333333333333 with parameters: {'n_estimators': 14, 'max_depth': 10.47219568632431}.\n",
      "[I 2020-03-05 14:45:33,370] Finished trial#75 resulted in value: 0.96. Current best value is 0.9733333333333333 with parameters: {'n_estimators': 14, 'max_depth': 10.47219568632431}.\n",
      "[I 2020-03-05 14:45:33,443] Finished trial#76 resulted in value: 0.9466666666666667. Current best value is 0.9733333333333333 with parameters: {'n_estimators': 14, 'max_depth': 10.47219568632431}.\n",
      "[I 2020-03-05 14:45:33,519] Finished trial#77 resulted in value: 0.9466666666666667. Current best value is 0.9733333333333333 with parameters: {'n_estimators': 14, 'max_depth': 10.47219568632431}.\n",
      "[I 2020-03-05 14:45:33,597] Finished trial#78 resulted in value: 0.9466666666666667. Current best value is 0.9733333333333333 with parameters: {'n_estimators': 14, 'max_depth': 10.47219568632431}.\n",
      "[I 2020-03-05 14:45:33,681] Finished trial#79 resulted in value: 0.96. Current best value is 0.9733333333333333 with parameters: {'n_estimators': 14, 'max_depth': 10.47219568632431}.\n",
      "[I 2020-03-05 14:45:33,758] Finished trial#80 resulted in value: 0.9666666666666667. Current best value is 0.9733333333333333 with parameters: {'n_estimators': 14, 'max_depth': 10.47219568632431}.\n",
      "[I 2020-03-05 14:45:33,837] Finished trial#81 resulted in value: 0.9533333333333333. Current best value is 0.9733333333333333 with parameters: {'n_estimators': 14, 'max_depth': 10.47219568632431}.\n",
      "[I 2020-03-05 14:45:33,915] Finished trial#82 resulted in value: 0.96. Current best value is 0.9733333333333333 with parameters: {'n_estimators': 14, 'max_depth': 10.47219568632431}.\n",
      "[I 2020-03-05 14:45:33,989] Finished trial#83 resulted in value: 0.96. Current best value is 0.9733333333333333 with parameters: {'n_estimators': 14, 'max_depth': 10.47219568632431}.\n"
     ]
    },
    {
     "name": "stderr",
     "output_type": "stream",
     "text": [
      "[I 2020-03-05 14:45:34,067] Finished trial#84 resulted in value: 0.96. Current best value is 0.9733333333333333 with parameters: {'n_estimators': 14, 'max_depth': 10.47219568632431}.\n",
      "[I 2020-03-05 14:45:34,150] Finished trial#85 resulted in value: 0.9533333333333333. Current best value is 0.9733333333333333 with parameters: {'n_estimators': 14, 'max_depth': 10.47219568632431}.\n",
      "[I 2020-03-05 14:45:34,230] Finished trial#86 resulted in value: 0.94. Current best value is 0.9733333333333333 with parameters: {'n_estimators': 14, 'max_depth': 10.47219568632431}.\n",
      "[I 2020-03-05 14:45:34,311] Finished trial#87 resulted in value: 0.96. Current best value is 0.9733333333333333 with parameters: {'n_estimators': 14, 'max_depth': 10.47219568632431}.\n",
      "[I 2020-03-05 14:45:34,397] Finished trial#88 resulted in value: 0.96. Current best value is 0.9733333333333333 with parameters: {'n_estimators': 14, 'max_depth': 10.47219568632431}.\n",
      "[I 2020-03-05 14:45:34,475] Finished trial#89 resulted in value: 0.96. Current best value is 0.9733333333333333 with parameters: {'n_estimators': 14, 'max_depth': 10.47219568632431}.\n",
      "[I 2020-03-05 14:45:34,557] Finished trial#90 resulted in value: 0.96. Current best value is 0.9733333333333333 with parameters: {'n_estimators': 14, 'max_depth': 10.47219568632431}.\n",
      "[I 2020-03-05 14:45:34,637] Finished trial#91 resulted in value: 0.9466666666666667. Current best value is 0.9733333333333333 with parameters: {'n_estimators': 14, 'max_depth': 10.47219568632431}.\n",
      "[I 2020-03-05 14:45:34,708] Finished trial#92 resulted in value: 0.9533333333333333. Current best value is 0.9733333333333333 with parameters: {'n_estimators': 14, 'max_depth': 10.47219568632431}.\n",
      "[I 2020-03-05 14:45:34,788] Finished trial#93 resulted in value: 0.96. Current best value is 0.9733333333333333 with parameters: {'n_estimators': 14, 'max_depth': 10.47219568632431}.\n",
      "[I 2020-03-05 14:45:34,870] Finished trial#94 resulted in value: 0.96. Current best value is 0.9733333333333333 with parameters: {'n_estimators': 14, 'max_depth': 10.47219568632431}.\n",
      "[I 2020-03-05 14:45:34,950] Finished trial#95 resulted in value: 0.96. Current best value is 0.9733333333333333 with parameters: {'n_estimators': 14, 'max_depth': 10.47219568632431}.\n",
      "[I 2020-03-05 14:45:35,032] Finished trial#96 resulted in value: 0.9533333333333333. Current best value is 0.9733333333333333 with parameters: {'n_estimators': 14, 'max_depth': 10.47219568632431}.\n",
      "[I 2020-03-05 14:45:35,113] Finished trial#97 resulted in value: 0.9533333333333333. Current best value is 0.9733333333333333 with parameters: {'n_estimators': 14, 'max_depth': 10.47219568632431}.\n",
      "[I 2020-03-05 14:45:35,194] Finished trial#98 resulted in value: 0.96. Current best value is 0.9733333333333333 with parameters: {'n_estimators': 14, 'max_depth': 10.47219568632431}.\n",
      "[I 2020-03-05 14:45:35,273] Finished trial#99 resulted in value: 0.94. Current best value is 0.9733333333333333 with parameters: {'n_estimators': 14, 'max_depth': 10.47219568632431}.\n"
     ]
    }
   ],
   "source": [
    "def objective(trial):\n",
    "   \n",
    "    n_estimators = trial.suggest_int('n_estimators', 2, 20)\n",
    "    max_depth = int(trial.suggest_loguniform('max_depth', 1, 32))\n",
    "    \n",
    "    clf = sklearn.ensemble.RandomForestClassifier(\n",
    "        n_estimators=n_estimators, max_depth=max_depth)\n",
    "    \n",
    "    return sklearn.model_selection.cross_val_score(\n",
    "        clf, iris_data, iris_label, n_jobs=-1, cv=3).mean()\n",
    "\n",
    "study = optuna.create_study(direction='maximize')\n",
    "study.optimize(objective, n_trials=100)\n",
    "\n",
    "trial = study.best_trial"
   ]
  },
  {
   "cell_type": "code",
   "execution_count": 24,
   "metadata": {},
   "outputs": [
    {
     "name": "stdout",
     "output_type": "stream",
     "text": [
      "Accuracy: 0.9733333333333333\n",
      "Best hyperparameters: {'n_estimators': 14, 'max_depth': 10.47219568632431}\n"
     ]
    }
   ],
   "source": [
    "print('Accuracy: {}'.format(trial.value))\n",
    "print(\"Best hyperparameters: {}\".format(trial.params))"
   ]
  },
  {
   "cell_type": "markdown",
   "metadata": {},
   "source": [
    "# 4. scikit-optimize\n",
    "- https://scikit-optimize.github.io/"
   ]
  },
  {
   "cell_type": "markdown",
   "metadata": {},
   "source": [
    "# 5. Hyperopt\n",
    "- https://github.com/hyperopt/hyperopt-sklearn\n",
    "- https://github.com/hyperopt/hyperopt"
   ]
  },
  {
   "cell_type": "code",
   "execution_count": 50,
   "metadata": {},
   "outputs": [],
   "source": [
    "from hyperopt import STATUS_OK, Trials, fmin, hp, tpe\n",
    "import time\n",
    "import xgboost as xgb"
   ]
  },
  {
   "cell_type": "code",
   "execution_count": 52,
   "metadata": {},
   "outputs": [
    {
     "name": "stdout",
     "output_type": "stream",
     "text": [
      "\r",
      "  0%|                                                                         | 0/1000 [00:00<?, ?trial/s, best loss=?]"
     ]
    },
    {
     "name": "stderr",
     "output_type": "stream",
     "text": [
      "job exception: [15:01:40] C:/Users/Administrator/workspace/xgboost-win64_release_1.0.0/src/objective/regression_obj.cu:102: label must be in [0,1] for logistic regression\n"
     ]
    },
    {
     "name": "stdout",
     "output_type": "stream",
     "text": [
      "  0%|                                                                         | 0/1000 [00:00<?, ?trial/s, best loss=?]\n"
     ]
    },
    {
     "ename": "XGBoostError",
     "evalue": "[15:01:40] C:/Users/Administrator/workspace/xgboost-win64_release_1.0.0/src/objective/regression_obj.cu:102: label must be in [0,1] for logistic regression",
     "output_type": "error",
     "traceback": [
      "\u001b[1;31m---------------------------------------------------------------------------\u001b[0m",
      "\u001b[1;31mXGBoostError\u001b[0m                              Traceback (most recent call last)",
      "\u001b[1;32m<ipython-input-52-cbb66d785737>\u001b[0m in \u001b[0;36m<module>\u001b[1;34m\u001b[0m\n\u001b[0;32m     43\u001b[0m                       \u001b[0moptimizer\u001b[0m\u001b[1;33m=\u001b[0m\u001b[0mtpe\u001b[0m\u001b[1;33m.\u001b[0m\u001b[0msuggest\u001b[0m\u001b[1;33m,\u001b[0m\u001b[1;33m\u001b[0m\u001b[1;33m\u001b[0m\u001b[0m\n\u001b[0;32m     44\u001b[0m                       \u001b[0mcores\u001b[0m \u001b[1;33m=\u001b[0m \u001b[0mcores\u001b[0m\u001b[1;33m,\u001b[0m\u001b[1;33m\u001b[0m\u001b[1;33m\u001b[0m\u001b[0m\n\u001b[1;32m---> 45\u001b[1;33m                       trials = trials)\n\u001b[0m\u001b[0;32m     46\u001b[0m \u001b[0mprint\u001b[0m\u001b[1;33m(\u001b[0m\u001b[1;34m\"------------------------------------\"\u001b[0m\u001b[1;33m)\u001b[0m\u001b[1;33m\u001b[0m\u001b[1;33m\u001b[0m\u001b[0m\n\u001b[0;32m     47\u001b[0m \u001b[0mprint\u001b[0m\u001b[1;33m(\u001b[0m\u001b[1;34m\"The best hyperparameters are: \"\u001b[0m\u001b[1;33m,\u001b[0m \u001b[1;34m\"\\n\"\u001b[0m\u001b[1;33m)\u001b[0m\u001b[1;33m\u001b[0m\u001b[1;33m\u001b[0m\u001b[0m\n",
      "\u001b[1;32m<ipython-input-52-cbb66d785737>\u001b[0m in \u001b[0;36moptimize\u001b[1;34m(evals, cores, trials, optimizer, random_state)\u001b[0m\n\u001b[0;32m     32\u001b[0m         \u001b[1;34m'seed'\u001b[0m\u001b[1;33m:\u001b[0m \u001b[0mrandom_state\u001b[0m\u001b[1;33m\u001b[0m\u001b[1;33m\u001b[0m\u001b[0m\n\u001b[0;32m     33\u001b[0m     }\n\u001b[1;32m---> 34\u001b[1;33m     \u001b[0mbest\u001b[0m \u001b[1;33m=\u001b[0m \u001b[0mfmin\u001b[0m\u001b[1;33m(\u001b[0m\u001b[0mscore\u001b[0m\u001b[1;33m,\u001b[0m \u001b[0mspace\u001b[0m\u001b[1;33m,\u001b[0m \u001b[0malgo\u001b[0m\u001b[1;33m=\u001b[0m\u001b[0mtpe\u001b[0m\u001b[1;33m.\u001b[0m\u001b[0msuggest\u001b[0m\u001b[1;33m,\u001b[0m \u001b[0mmax_evals\u001b[0m\u001b[1;33m=\u001b[0m\u001b[0mevals\u001b[0m\u001b[1;33m,\u001b[0m \u001b[0mtrials\u001b[0m \u001b[1;33m=\u001b[0m \u001b[0mtrials\u001b[0m\u001b[1;33m)\u001b[0m\u001b[1;33m\u001b[0m\u001b[1;33m\u001b[0m\u001b[0m\n\u001b[0m\u001b[0;32m     35\u001b[0m     \u001b[1;32mreturn\u001b[0m \u001b[0mbest\u001b[0m\u001b[1;33m\u001b[0m\u001b[1;33m\u001b[0m\u001b[0m\n\u001b[0;32m     36\u001b[0m \u001b[1;33m\u001b[0m\u001b[0m\n",
      "\u001b[1;32mD:\\99_file\\01_Anaconda\\envs\\py36\\lib\\site-packages\\hyperopt\\fmin.py\u001b[0m in \u001b[0;36mfmin\u001b[1;34m(fn, space, algo, max_evals, timeout, loss_threshold, trials, rstate, allow_trials_fmin, pass_expr_memo_ctrl, catch_eval_exceptions, verbose, return_argmin, points_to_evaluate, max_queue_len, show_progressbar)\u001b[0m\n\u001b[0;32m    480\u001b[0m             \u001b[0mcatch_eval_exceptions\u001b[0m\u001b[1;33m=\u001b[0m\u001b[0mcatch_eval_exceptions\u001b[0m\u001b[1;33m,\u001b[0m\u001b[1;33m\u001b[0m\u001b[1;33m\u001b[0m\u001b[0m\n\u001b[0;32m    481\u001b[0m             \u001b[0mreturn_argmin\u001b[0m\u001b[1;33m=\u001b[0m\u001b[0mreturn_argmin\u001b[0m\u001b[1;33m,\u001b[0m\u001b[1;33m\u001b[0m\u001b[1;33m\u001b[0m\u001b[0m\n\u001b[1;32m--> 482\u001b[1;33m             \u001b[0mshow_progressbar\u001b[0m\u001b[1;33m=\u001b[0m\u001b[0mshow_progressbar\u001b[0m\u001b[1;33m,\u001b[0m\u001b[1;33m\u001b[0m\u001b[1;33m\u001b[0m\u001b[0m\n\u001b[0m\u001b[0;32m    483\u001b[0m         )\n\u001b[0;32m    484\u001b[0m \u001b[1;33m\u001b[0m\u001b[0m\n",
      "\u001b[1;32mD:\\99_file\\01_Anaconda\\envs\\py36\\lib\\site-packages\\hyperopt\\base.py\u001b[0m in \u001b[0;36mfmin\u001b[1;34m(self, fn, space, algo, max_evals, timeout, loss_threshold, max_queue_len, rstate, verbose, pass_expr_memo_ctrl, catch_eval_exceptions, return_argmin, show_progressbar)\u001b[0m\n\u001b[0;32m    684\u001b[0m             \u001b[0mcatch_eval_exceptions\u001b[0m\u001b[1;33m=\u001b[0m\u001b[0mcatch_eval_exceptions\u001b[0m\u001b[1;33m,\u001b[0m\u001b[1;33m\u001b[0m\u001b[1;33m\u001b[0m\u001b[0m\n\u001b[0;32m    685\u001b[0m             \u001b[0mreturn_argmin\u001b[0m\u001b[1;33m=\u001b[0m\u001b[0mreturn_argmin\u001b[0m\u001b[1;33m,\u001b[0m\u001b[1;33m\u001b[0m\u001b[1;33m\u001b[0m\u001b[0m\n\u001b[1;32m--> 686\u001b[1;33m             \u001b[0mshow_progressbar\u001b[0m\u001b[1;33m=\u001b[0m\u001b[0mshow_progressbar\u001b[0m\u001b[1;33m,\u001b[0m\u001b[1;33m\u001b[0m\u001b[1;33m\u001b[0m\u001b[0m\n\u001b[0m\u001b[0;32m    687\u001b[0m         )\n\u001b[0;32m    688\u001b[0m \u001b[1;33m\u001b[0m\u001b[0m\n",
      "\u001b[1;32mD:\\99_file\\01_Anaconda\\envs\\py36\\lib\\site-packages\\hyperopt\\fmin.py\u001b[0m in \u001b[0;36mfmin\u001b[1;34m(fn, space, algo, max_evals, timeout, loss_threshold, trials, rstate, allow_trials_fmin, pass_expr_memo_ctrl, catch_eval_exceptions, verbose, return_argmin, points_to_evaluate, max_queue_len, show_progressbar)\u001b[0m\n\u001b[0;32m    507\u001b[0m \u001b[1;33m\u001b[0m\u001b[0m\n\u001b[0;32m    508\u001b[0m     \u001b[1;31m# next line is where the fmin is actually executed\u001b[0m\u001b[1;33m\u001b[0m\u001b[1;33m\u001b[0m\u001b[1;33m\u001b[0m\u001b[0m\n\u001b[1;32m--> 509\u001b[1;33m     \u001b[0mrval\u001b[0m\u001b[1;33m.\u001b[0m\u001b[0mexhaust\u001b[0m\u001b[1;33m(\u001b[0m\u001b[1;33m)\u001b[0m\u001b[1;33m\u001b[0m\u001b[1;33m\u001b[0m\u001b[0m\n\u001b[0m\u001b[0;32m    510\u001b[0m \u001b[1;33m\u001b[0m\u001b[0m\n\u001b[0;32m    511\u001b[0m     \u001b[1;32mif\u001b[0m \u001b[0mreturn_argmin\u001b[0m\u001b[1;33m:\u001b[0m\u001b[1;33m\u001b[0m\u001b[1;33m\u001b[0m\u001b[0m\n",
      "\u001b[1;32mD:\\99_file\\01_Anaconda\\envs\\py36\\lib\\site-packages\\hyperopt\\fmin.py\u001b[0m in \u001b[0;36mexhaust\u001b[1;34m(self)\u001b[0m\n\u001b[0;32m    328\u001b[0m     \u001b[1;32mdef\u001b[0m \u001b[0mexhaust\u001b[0m\u001b[1;33m(\u001b[0m\u001b[0mself\u001b[0m\u001b[1;33m)\u001b[0m\u001b[1;33m:\u001b[0m\u001b[1;33m\u001b[0m\u001b[1;33m\u001b[0m\u001b[0m\n\u001b[0;32m    329\u001b[0m         \u001b[0mn_done\u001b[0m \u001b[1;33m=\u001b[0m \u001b[0mlen\u001b[0m\u001b[1;33m(\u001b[0m\u001b[0mself\u001b[0m\u001b[1;33m.\u001b[0m\u001b[0mtrials\u001b[0m\u001b[1;33m)\u001b[0m\u001b[1;33m\u001b[0m\u001b[1;33m\u001b[0m\u001b[0m\n\u001b[1;32m--> 330\u001b[1;33m         \u001b[0mself\u001b[0m\u001b[1;33m.\u001b[0m\u001b[0mrun\u001b[0m\u001b[1;33m(\u001b[0m\u001b[0mself\u001b[0m\u001b[1;33m.\u001b[0m\u001b[0mmax_evals\u001b[0m \u001b[1;33m-\u001b[0m \u001b[0mn_done\u001b[0m\u001b[1;33m,\u001b[0m \u001b[0mblock_until_done\u001b[0m\u001b[1;33m=\u001b[0m\u001b[0mself\u001b[0m\u001b[1;33m.\u001b[0m\u001b[0masynchronous\u001b[0m\u001b[1;33m)\u001b[0m\u001b[1;33m\u001b[0m\u001b[1;33m\u001b[0m\u001b[0m\n\u001b[0m\u001b[0;32m    331\u001b[0m         \u001b[0mself\u001b[0m\u001b[1;33m.\u001b[0m\u001b[0mtrials\u001b[0m\u001b[1;33m.\u001b[0m\u001b[0mrefresh\u001b[0m\u001b[1;33m(\u001b[0m\u001b[1;33m)\u001b[0m\u001b[1;33m\u001b[0m\u001b[1;33m\u001b[0m\u001b[0m\n\u001b[0;32m    332\u001b[0m         \u001b[1;32mreturn\u001b[0m \u001b[0mself\u001b[0m\u001b[1;33m\u001b[0m\u001b[1;33m\u001b[0m\u001b[0m\n",
      "\u001b[1;32mD:\\99_file\\01_Anaconda\\envs\\py36\\lib\\site-packages\\hyperopt\\fmin.py\u001b[0m in \u001b[0;36mrun\u001b[1;34m(self, N, block_until_done)\u001b[0m\n\u001b[0;32m    284\u001b[0m                 \u001b[1;32melse\u001b[0m\u001b[1;33m:\u001b[0m\u001b[1;33m\u001b[0m\u001b[1;33m\u001b[0m\u001b[0m\n\u001b[0;32m    285\u001b[0m                     \u001b[1;31m# -- loop over trials and do the jobs directly\u001b[0m\u001b[1;33m\u001b[0m\u001b[1;33m\u001b[0m\u001b[1;33m\u001b[0m\u001b[0m\n\u001b[1;32m--> 286\u001b[1;33m                     \u001b[0mself\u001b[0m\u001b[1;33m.\u001b[0m\u001b[0mserial_evaluate\u001b[0m\u001b[1;33m(\u001b[0m\u001b[1;33m)\u001b[0m\u001b[1;33m\u001b[0m\u001b[1;33m\u001b[0m\u001b[0m\n\u001b[0m\u001b[0;32m    287\u001b[0m \u001b[1;33m\u001b[0m\u001b[0m\n\u001b[0;32m    288\u001b[0m                 \u001b[0mself\u001b[0m\u001b[1;33m.\u001b[0m\u001b[0mtrials\u001b[0m\u001b[1;33m.\u001b[0m\u001b[0mrefresh\u001b[0m\u001b[1;33m(\u001b[0m\u001b[1;33m)\u001b[0m\u001b[1;33m\u001b[0m\u001b[1;33m\u001b[0m\u001b[0m\n",
      "\u001b[1;32mD:\\99_file\\01_Anaconda\\envs\\py36\\lib\\site-packages\\hyperopt\\fmin.py\u001b[0m in \u001b[0;36mserial_evaluate\u001b[1;34m(self, N)\u001b[0m\n\u001b[0;32m    163\u001b[0m                 \u001b[0mctrl\u001b[0m \u001b[1;33m=\u001b[0m \u001b[0mbase\u001b[0m\u001b[1;33m.\u001b[0m\u001b[0mCtrl\u001b[0m\u001b[1;33m(\u001b[0m\u001b[0mself\u001b[0m\u001b[1;33m.\u001b[0m\u001b[0mtrials\u001b[0m\u001b[1;33m,\u001b[0m \u001b[0mcurrent_trial\u001b[0m\u001b[1;33m=\u001b[0m\u001b[0mtrial\u001b[0m\u001b[1;33m)\u001b[0m\u001b[1;33m\u001b[0m\u001b[1;33m\u001b[0m\u001b[0m\n\u001b[0;32m    164\u001b[0m                 \u001b[1;32mtry\u001b[0m\u001b[1;33m:\u001b[0m\u001b[1;33m\u001b[0m\u001b[1;33m\u001b[0m\u001b[0m\n\u001b[1;32m--> 165\u001b[1;33m                     \u001b[0mresult\u001b[0m \u001b[1;33m=\u001b[0m \u001b[0mself\u001b[0m\u001b[1;33m.\u001b[0m\u001b[0mdomain\u001b[0m\u001b[1;33m.\u001b[0m\u001b[0mevaluate\u001b[0m\u001b[1;33m(\u001b[0m\u001b[0mspec\u001b[0m\u001b[1;33m,\u001b[0m \u001b[0mctrl\u001b[0m\u001b[1;33m)\u001b[0m\u001b[1;33m\u001b[0m\u001b[1;33m\u001b[0m\u001b[0m\n\u001b[0m\u001b[0;32m    166\u001b[0m                 \u001b[1;32mexcept\u001b[0m \u001b[0mException\u001b[0m \u001b[1;32mas\u001b[0m \u001b[0me\u001b[0m\u001b[1;33m:\u001b[0m\u001b[1;33m\u001b[0m\u001b[1;33m\u001b[0m\u001b[0m\n\u001b[0;32m    167\u001b[0m                     \u001b[0mlogger\u001b[0m\u001b[1;33m.\u001b[0m\u001b[0merror\u001b[0m\u001b[1;33m(\u001b[0m\u001b[1;34m\"job exception: %s\"\u001b[0m \u001b[1;33m%\u001b[0m \u001b[0mstr\u001b[0m\u001b[1;33m(\u001b[0m\u001b[0me\u001b[0m\u001b[1;33m)\u001b[0m\u001b[1;33m)\u001b[0m\u001b[1;33m\u001b[0m\u001b[1;33m\u001b[0m\u001b[0m\n",
      "\u001b[1;32mD:\\99_file\\01_Anaconda\\envs\\py36\\lib\\site-packages\\hyperopt\\base.py\u001b[0m in \u001b[0;36mevaluate\u001b[1;34m(self, config, ctrl, attach_attachments)\u001b[0m\n\u001b[0;32m    892\u001b[0m                 \u001b[0mprint_node_on_error\u001b[0m\u001b[1;33m=\u001b[0m\u001b[0mself\u001b[0m\u001b[1;33m.\u001b[0m\u001b[0mrec_eval_print_node_on_error\u001b[0m\u001b[1;33m,\u001b[0m\u001b[1;33m\u001b[0m\u001b[1;33m\u001b[0m\u001b[0m\n\u001b[0;32m    893\u001b[0m             )\n\u001b[1;32m--> 894\u001b[1;33m             \u001b[0mrval\u001b[0m \u001b[1;33m=\u001b[0m \u001b[0mself\u001b[0m\u001b[1;33m.\u001b[0m\u001b[0mfn\u001b[0m\u001b[1;33m(\u001b[0m\u001b[0mpyll_rval\u001b[0m\u001b[1;33m)\u001b[0m\u001b[1;33m\u001b[0m\u001b[1;33m\u001b[0m\u001b[0m\n\u001b[0m\u001b[0;32m    895\u001b[0m \u001b[1;33m\u001b[0m\u001b[0m\n\u001b[0;32m    896\u001b[0m         \u001b[1;32mif\u001b[0m \u001b[0misinstance\u001b[0m\u001b[1;33m(\u001b[0m\u001b[0mrval\u001b[0m\u001b[1;33m,\u001b[0m \u001b[1;33m(\u001b[0m\u001b[0mfloat\u001b[0m\u001b[1;33m,\u001b[0m \u001b[0mint\u001b[0m\u001b[1;33m,\u001b[0m \u001b[0mnp\u001b[0m\u001b[1;33m.\u001b[0m\u001b[0mnumber\u001b[0m\u001b[1;33m)\u001b[0m\u001b[1;33m)\u001b[0m\u001b[1;33m:\u001b[0m\u001b[1;33m\u001b[0m\u001b[1;33m\u001b[0m\u001b[0m\n",
      "\u001b[1;32m<ipython-input-52-cbb66d785737>\u001b[0m in \u001b[0;36mscore\u001b[1;34m(params)\u001b[0m\n\u001b[0;32m      9\u001b[0m                               \u001b[0mnum_round\u001b[0m\u001b[1;33m,\u001b[0m\u001b[1;33m\u001b[0m\u001b[1;33m\u001b[0m\u001b[0m\n\u001b[0;32m     10\u001b[0m                               \u001b[0mevals\u001b[0m\u001b[1;33m=\u001b[0m\u001b[0mwatchlist\u001b[0m\u001b[1;33m,\u001b[0m\u001b[1;33m\u001b[0m\u001b[1;33m\u001b[0m\u001b[0m\n\u001b[1;32m---> 11\u001b[1;33m                               verbose_eval=False)\n\u001b[0m\u001b[0;32m     12\u001b[0m     \u001b[0mpredictions\u001b[0m \u001b[1;33m=\u001b[0m \u001b[0mgbm_model\u001b[0m\u001b[1;33m.\u001b[0m\u001b[0mpredict\u001b[0m\u001b[1;33m(\u001b[0m\u001b[0mdvalid\u001b[0m\u001b[1;33m,\u001b[0m \u001b[0mntree_limit\u001b[0m\u001b[1;33m=\u001b[0m\u001b[0mgbm_model\u001b[0m\u001b[1;33m.\u001b[0m\u001b[0mbest_iteration\u001b[0m\u001b[1;33m)\u001b[0m\u001b[1;33m\u001b[0m\u001b[1;33m\u001b[0m\u001b[0m\n\u001b[0;32m     13\u001b[0m     \u001b[0mprint\u001b[0m\u001b[1;33m(\u001b[0m\u001b[0mgini_normalized\u001b[0m\u001b[1;33m(\u001b[0m\u001b[0my_val\u001b[0m\u001b[1;33m,\u001b[0m \u001b[0mnp\u001b[0m\u001b[1;33m.\u001b[0m\u001b[0marray\u001b[0m\u001b[1;33m(\u001b[0m\u001b[0mpredictions\u001b[0m\u001b[1;33m)\u001b[0m\u001b[1;33m)\u001b[0m\u001b[1;33m)\u001b[0m\u001b[1;33m\u001b[0m\u001b[1;33m\u001b[0m\u001b[0m\n",
      "\u001b[1;32mD:\\99_file\\01_Anaconda\\envs\\py36\\lib\\site-packages\\xgboost\\training.py\u001b[0m in \u001b[0;36mtrain\u001b[1;34m(params, dtrain, num_boost_round, evals, obj, feval, maximize, early_stopping_rounds, evals_result, verbose_eval, xgb_model, callbacks)\u001b[0m\n\u001b[0;32m    207\u001b[0m                            \u001b[0mevals\u001b[0m\u001b[1;33m=\u001b[0m\u001b[0mevals\u001b[0m\u001b[1;33m,\u001b[0m\u001b[1;33m\u001b[0m\u001b[1;33m\u001b[0m\u001b[0m\n\u001b[0;32m    208\u001b[0m                            \u001b[0mobj\u001b[0m\u001b[1;33m=\u001b[0m\u001b[0mobj\u001b[0m\u001b[1;33m,\u001b[0m \u001b[0mfeval\u001b[0m\u001b[1;33m=\u001b[0m\u001b[0mfeval\u001b[0m\u001b[1;33m,\u001b[0m\u001b[1;33m\u001b[0m\u001b[1;33m\u001b[0m\u001b[0m\n\u001b[1;32m--> 209\u001b[1;33m                            xgb_model=xgb_model, callbacks=callbacks)\n\u001b[0m\u001b[0;32m    210\u001b[0m \u001b[1;33m\u001b[0m\u001b[0m\n\u001b[0;32m    211\u001b[0m \u001b[1;33m\u001b[0m\u001b[0m\n",
      "\u001b[1;32mD:\\99_file\\01_Anaconda\\envs\\py36\\lib\\site-packages\\xgboost\\training.py\u001b[0m in \u001b[0;36m_train_internal\u001b[1;34m(params, dtrain, num_boost_round, evals, obj, feval, xgb_model, callbacks)\u001b[0m\n\u001b[0;32m     72\u001b[0m         \u001b[1;31m# Skip the first update if it is a recovery step.\u001b[0m\u001b[1;33m\u001b[0m\u001b[1;33m\u001b[0m\u001b[1;33m\u001b[0m\u001b[0m\n\u001b[0;32m     73\u001b[0m         \u001b[1;32mif\u001b[0m \u001b[0mversion\u001b[0m \u001b[1;33m%\u001b[0m \u001b[1;36m2\u001b[0m \u001b[1;33m==\u001b[0m \u001b[1;36m0\u001b[0m\u001b[1;33m:\u001b[0m\u001b[1;33m\u001b[0m\u001b[1;33m\u001b[0m\u001b[0m\n\u001b[1;32m---> 74\u001b[1;33m             \u001b[0mbst\u001b[0m\u001b[1;33m.\u001b[0m\u001b[0mupdate\u001b[0m\u001b[1;33m(\u001b[0m\u001b[0mdtrain\u001b[0m\u001b[1;33m,\u001b[0m \u001b[0mi\u001b[0m\u001b[1;33m,\u001b[0m \u001b[0mobj\u001b[0m\u001b[1;33m)\u001b[0m\u001b[1;33m\u001b[0m\u001b[1;33m\u001b[0m\u001b[0m\n\u001b[0m\u001b[0;32m     75\u001b[0m             \u001b[0mbst\u001b[0m\u001b[1;33m.\u001b[0m\u001b[0msave_rabit_checkpoint\u001b[0m\u001b[1;33m(\u001b[0m\u001b[1;33m)\u001b[0m\u001b[1;33m\u001b[0m\u001b[1;33m\u001b[0m\u001b[0m\n\u001b[0;32m     76\u001b[0m             \u001b[0mversion\u001b[0m \u001b[1;33m+=\u001b[0m \u001b[1;36m1\u001b[0m\u001b[1;33m\u001b[0m\u001b[1;33m\u001b[0m\u001b[0m\n",
      "\u001b[1;32mD:\\99_file\\01_Anaconda\\envs\\py36\\lib\\site-packages\\xgboost\\core.py\u001b[0m in \u001b[0;36mupdate\u001b[1;34m(self, dtrain, iteration, fobj)\u001b[0m\n\u001b[0;32m   1246\u001b[0m             _check_call(_LIB.XGBoosterUpdateOneIter(self.handle,\n\u001b[0;32m   1247\u001b[0m                                                     \u001b[0mctypes\u001b[0m\u001b[1;33m.\u001b[0m\u001b[0mc_int\u001b[0m\u001b[1;33m(\u001b[0m\u001b[0miteration\u001b[0m\u001b[1;33m)\u001b[0m\u001b[1;33m,\u001b[0m\u001b[1;33m\u001b[0m\u001b[1;33m\u001b[0m\u001b[0m\n\u001b[1;32m-> 1248\u001b[1;33m                                                     dtrain.handle))\n\u001b[0m\u001b[0;32m   1249\u001b[0m         \u001b[1;32melse\u001b[0m\u001b[1;33m:\u001b[0m\u001b[1;33m\u001b[0m\u001b[1;33m\u001b[0m\u001b[0m\n\u001b[0;32m   1250\u001b[0m             \u001b[0mpred\u001b[0m \u001b[1;33m=\u001b[0m \u001b[0mself\u001b[0m\u001b[1;33m.\u001b[0m\u001b[0mpredict\u001b[0m\u001b[1;33m(\u001b[0m\u001b[0mdtrain\u001b[0m\u001b[1;33m,\u001b[0m \u001b[0mtraining\u001b[0m\u001b[1;33m=\u001b[0m\u001b[1;32mTrue\u001b[0m\u001b[1;33m)\u001b[0m\u001b[1;33m\u001b[0m\u001b[1;33m\u001b[0m\u001b[0m\n",
      "\u001b[1;32mD:\\99_file\\01_Anaconda\\envs\\py36\\lib\\site-packages\\xgboost\\core.py\u001b[0m in \u001b[0;36m_check_call\u001b[1;34m(ret)\u001b[0m\n\u001b[0;32m    187\u001b[0m     \"\"\"\n\u001b[0;32m    188\u001b[0m     \u001b[1;32mif\u001b[0m \u001b[0mret\u001b[0m \u001b[1;33m!=\u001b[0m \u001b[1;36m0\u001b[0m\u001b[1;33m:\u001b[0m\u001b[1;33m\u001b[0m\u001b[1;33m\u001b[0m\u001b[0m\n\u001b[1;32m--> 189\u001b[1;33m         \u001b[1;32mraise\u001b[0m \u001b[0mXGBoostError\u001b[0m\u001b[1;33m(\u001b[0m\u001b[0mpy_str\u001b[0m\u001b[1;33m(\u001b[0m\u001b[0m_LIB\u001b[0m\u001b[1;33m.\u001b[0m\u001b[0mXGBGetLastError\u001b[0m\u001b[1;33m(\u001b[0m\u001b[1;33m)\u001b[0m\u001b[1;33m)\u001b[0m\u001b[1;33m)\u001b[0m\u001b[1;33m\u001b[0m\u001b[1;33m\u001b[0m\u001b[0m\n\u001b[0m\u001b[0;32m    190\u001b[0m \u001b[1;33m\u001b[0m\u001b[0m\n\u001b[0;32m    191\u001b[0m \u001b[1;33m\u001b[0m\u001b[0m\n",
      "\u001b[1;31mXGBoostError\u001b[0m: [15:01:40] C:/Users/Administrator/workspace/xgboost-win64_release_1.0.0/src/objective/regression_obj.cu:102: label must be in [0,1] for logistic regression"
     ]
    }
   ],
   "source": [
    "def score(params):\n",
    "    num_round = int(params['n_estimators'])\n",
    "    del params['n_estimators']\n",
    "    dtrain = xgb.DMatrix(X_train, label=y_train)\n",
    "    dvalid = xgb.DMatrix(X_test, label=y_test)\n",
    "    watchlist = [(dvalid, 'eval'), (dtrain, 'train')]\n",
    "    gbm_model = xgb.train(params, \n",
    "                              dtrain, \n",
    "                              num_round,\n",
    "                              evals=watchlist,\n",
    "                              verbose_eval=False)\n",
    "    predictions = gbm_model.predict(dvalid, ntree_limit=gbm_model.best_iteration)\n",
    "    print(gini_normalized(y_val, np.array(predictions)))\n",
    "    loss = 1 - gini_normalized(y_val, np.array(predictions))\n",
    "    return {'loss': loss, 'status': STATUS_OK}\n",
    " \n",
    " \n",
    "def optimize(evals, cores, trials, optimizer=tpe.suggest, random_state=0):\n",
    "    space = {\n",
    "        'n_estimators': hp.quniform('n_estimators', 200, 600, 1),\n",
    "        'eta': hp.quniform('eta', 0.025, 0.25, 0.025), # A problem with max_depth casted to float instead of int with the hp.quniform method.\n",
    "        'max_depth':  hp.choice('max_depth', np.arange(1, 14, dtype=int)),\n",
    "        'min_child_weight': hp.quniform('min_child_weight', 1, 10, 1),\n",
    "        'subsample': hp.quniform('subsample', 0.7, 1, 0.05),\n",
    "        'gamma': hp.quniform('gamma', 0.5, 1, 0.05),\n",
    "        'colsample_bytree': hp.quniform('colsample_bytree', 0.7, 1, 0.05),\n",
    "        'alpha' :  hp.quniform('alpha', 0, 10, 1),\n",
    "        'lambda': hp.quniform('lambda', 1, 2, 0.1),\n",
    "        'nthread': cores,\n",
    "        'objective': 'binary:logistic',\n",
    "        'booster': 'gbtree',\n",
    "        'seed': random_state\n",
    "    }\n",
    "    best = fmin(score, space, algo=tpe.suggest, max_evals=evals, trials = trials)\n",
    "    return best\n",
    "    \n",
    "\n",
    "trials = Trials()\n",
    "cores = 32\n",
    "n= 1000\n",
    "start = time.time()\n",
    "best_param = optimize(evals = n,\n",
    "                      optimizer=tpe.suggest,\n",
    "                      cores = cores,\n",
    "                      trials = trials)\n",
    "print(\"------------------------------------\")\n",
    "print(\"The best hyperparameters are: \", \"\\n\")\n",
    "print(best_param)\n",
    "end = time.time()\n",
    "print('Time elapsed to optimize {0} executions: {1}'.format(n,end - start))"
   ]
  },
  {
   "cell_type": "markdown",
   "metadata": {},
   "source": [
    "# 5.1 Hyperopt-Sklearn \n",
    "- X_train, X_test, y_train, y_test\n",
    "- https://hyperopt.github.io/hyperopt-sklearn/\n",
    "- It can cover multiple classifier and regressor ex) SVM, KNN, RF and XGboost "
   ]
  },
  {
   "cell_type": "code",
   "execution_count": 41,
   "metadata": {},
   "outputs": [
    {
     "name": "stdout",
     "output_type": "stream",
     "text": [
      "100%|█████████████████████████████████████████████████| 1/1 [00:06<00:00,  6.22s/trial, best loss: 0.08333333333333337]\n",
      "100%|█████████████████████████████████████████████████| 2/2 [00:01<00:00,  1.49trial/s, best loss: 0.08333333333333337]\n",
      "100%|█████████████████████████████████████████████████| 3/3 [00:01<00:00,  1.80trial/s, best loss: 0.04166666666666663]\n",
      "100%|█████████████████████████████████████████████████| 4/4 [00:01<00:00,  2.31trial/s, best loss: 0.04166666666666663]\n",
      "100%|█████████████████████████████████████████████████| 5/5 [00:02<00:00,  2.26trial/s, best loss: 0.04166666666666663]\n",
      "100%|█████████████████████████████████████████████████| 6/6 [00:02<00:00,  2.21trial/s, best loss: 0.04166666666666663]\n",
      "100%|█████████████████████████████████████████████████| 7/7 [00:01<00:00,  5.33trial/s, best loss: 0.04166666666666663]\n",
      "100%|█████████████████████████████████████████████████| 8/8 [00:01<00:00,  4.07trial/s, best loss: 0.04166666666666663]\n",
      "100%|█████████████████████████████████████████████████| 9/9 [00:01<00:00,  6.22trial/s, best loss: 0.04166666666666663]\n",
      "100%|███████████████████████████████████████████████| 10/10 [00:01<00:00,  7.29trial/s, best loss: 0.04166666666666663]\n"
     ]
    },
    {
     "name": "stderr",
     "output_type": "stream",
     "text": [
      "D:\\99_file\\01_Anaconda\\envs\\py36\\lib\\site-packages\\sklearn\\utils\\validation.py:760: DataConversionWarning:\n",
      "\n",
      "A column-vector y was passed when a 1d array was expected. Please change the shape of y to (n_samples, ), for example using ravel().\n",
      "\n"
     ]
    },
    {
     "name": "stdout",
     "output_type": "stream",
     "text": [
      "0.9333333333333333\n",
      "{'learner': SVC(C=0.08394670296711707, break_ties=False, cache_size=512, class_weight=None,\n",
      "    coef0=0.15129726171818256, decision_function_shape='ovr', degree=2.0,\n",
      "    gamma=0.14603407917490843, kernel='poly', max_iter=939740014.0,\n",
      "    probability=False, random_state=0, shrinking=False,\n",
      "    tol=0.0003435840785116567, verbose=False), 'preprocs': (), 'ex_preprocs': ()}\n"
     ]
    }
   ],
   "source": [
    "from hpsklearn import HyperoptEstimator, any_classifier\n",
    "from hyperopt import tpe\n",
    "estim = HyperoptEstimator(classifier=any_classifier('clf'), \n",
    "                          preprocessing = [],\n",
    "                          #preprocessing=any_preprocessing('pre'),\n",
    "                          algo=tpe.suggest, \n",
    "                          max_evals = 10,\n",
    "                          trial_timeout=300)\n",
    "\n",
    "estim.fit( X_train, y_train )\n",
    "\n",
    "print( estim.score( X_test, y_test ) )\n",
    "print( estim.best_model() )"
   ]
  },
  {
   "cell_type": "markdown",
   "metadata": {},
   "source": [
    "# 6. Spearmint\n",
    "- https://github.com/JasperSnoek/spearmint"
   ]
  },
  {
   "cell_type": "markdown",
   "metadata": {},
   "source": [
    "# 7. benderopt\n",
    "- https://github.com/Dreem-Organization/benderopt"
   ]
  }
 ],
 "metadata": {
  "kernelspec": {
   "display_name": "py36",
   "language": "python",
   "name": "py36"
  },
  "language_info": {
   "codemirror_mode": {
    "name": "ipython",
    "version": 3
   },
   "file_extension": ".py",
   "mimetype": "text/x-python",
   "name": "python",
   "nbconvert_exporter": "python",
   "pygments_lexer": "ipython3",
   "version": "3.6.10"
  }
 },
 "nbformat": 4,
 "nbformat_minor": 2
}
